{
  "cells": [
    {
      "cell_type": "markdown",
      "metadata": {
        "id": "view-in-github",
        "colab_type": "text"
      },
      "source": [
        "<a href=\"https://colab.research.google.com/github/kasim47520/Loandata-dataset/blob/main/Loan_data_code_file.ipynb\" target=\"_parent\"><img src=\"https://colab.research.google.com/assets/colab-badge.svg\" alt=\"Open In Colab\"/></a>"
      ]
    },
    {
      "cell_type": "code",
      "execution_count": 4,
      "id": "54f4fec2",
      "metadata": {
        "id": "54f4fec2"
      },
      "outputs": [],
      "source": [
        "import pandas as pd\n",
        "import numpy as np"
      ]
    },
    {
      "cell_type": "code",
      "execution_count": 5,
      "id": "dccbc4bb",
      "metadata": {
        "id": "dccbc4bb"
      },
      "outputs": [],
      "source": [
        "df=pd.read_excel('loan-data.xlsx')"
      ]
    },
    {
      "cell_type": "code",
      "execution_count": 6,
      "id": "c6db639b",
      "metadata": {
        "colab": {
          "base_uri": "https://localhost:8080/",
          "height": 360
        },
        "id": "c6db639b",
        "outputId": "562838f9-d689-49e0-af76-ff76ccc92a80"
      },
      "outputs": [
        {
          "output_type": "execute_result",
          "data": {
            "text/plain": [
              "   Unnamed: 0      id  member_id  loan_amnt  funded_amnt  funded_amnt_inv  \\\n",
              "0           2       2          2        0.0          0.0              0.0   \n",
              "1           3  545583     703644     2500.0       2500.0           2500.0   \n",
              "2           4  532101     687836     5000.0       5000.0           5000.0   \n",
              "3           5  877788    1092507     7000.0       7000.0           7000.0   \n",
              "4           6  875406    1089981     2000.0       2000.0           2000.0   \n",
              "\n",
              "        term  int_rate  installment emp_length  ... total_acc  total_pymnt  \\\n",
              "0  36 months      0.00         0.00   < 1 year  ...       1.0     0.000000   \n",
              "1  36 months     13.98        85.42    4 years  ...      10.0  3075.291779   \n",
              "2  36 months     15.95       175.67    4 years  ...      15.0  2948.760000   \n",
              "3  36 months      9.91       225.58  10+ years  ...      20.0  8082.391880   \n",
              "4  36 months      5.42        60.32  10+ years  ...      15.0  2161.663244   \n",
              "\n",
              "  total_pymnt_inv total_rec_prncp total_rec_int last_pymnt_d last_pymnt_amnt  \\\n",
              "0            0.00            0.00          0.00   2023-01-07            0.00   \n",
              "1         3075.29         2500.00        575.29   2023-07-13           90.85   \n",
              "2         2948.76         1909.02        873.81   2023-11-11          175.67   \n",
              "3         8082.39         7000.00       1082.39   2023-03-14         1550.27   \n",
              "4         2161.66         2000.00        161.66   2023-02-14           53.12   \n",
              "\n",
              "  next_pymnt_d  last_credit_pull_d  repay_fail  \n",
              "0   2023-01-07          2023-01-07           1  \n",
              "1   2023-08-13          2023-06-16           0  \n",
              "2          NaT          2023-03-12           1  \n",
              "3          NaT          2023-03-14           0  \n",
              "4          NaT          2023-06-16           0  \n",
              "\n",
              "[5 rows x 37 columns]"
            ],
            "text/html": [
              "\n",
              "  <div id=\"df-101b6683-cc55-4fdf-87cf-95753c4bc94d\" class=\"colab-df-container\">\n",
              "    <div>\n",
              "<style scoped>\n",
              "    .dataframe tbody tr th:only-of-type {\n",
              "        vertical-align: middle;\n",
              "    }\n",
              "\n",
              "    .dataframe tbody tr th {\n",
              "        vertical-align: top;\n",
              "    }\n",
              "\n",
              "    .dataframe thead th {\n",
              "        text-align: right;\n",
              "    }\n",
              "</style>\n",
              "<table border=\"1\" class=\"dataframe\">\n",
              "  <thead>\n",
              "    <tr style=\"text-align: right;\">\n",
              "      <th></th>\n",
              "      <th>Unnamed: 0</th>\n",
              "      <th>id</th>\n",
              "      <th>member_id</th>\n",
              "      <th>loan_amnt</th>\n",
              "      <th>funded_amnt</th>\n",
              "      <th>funded_amnt_inv</th>\n",
              "      <th>term</th>\n",
              "      <th>int_rate</th>\n",
              "      <th>installment</th>\n",
              "      <th>emp_length</th>\n",
              "      <th>...</th>\n",
              "      <th>total_acc</th>\n",
              "      <th>total_pymnt</th>\n",
              "      <th>total_pymnt_inv</th>\n",
              "      <th>total_rec_prncp</th>\n",
              "      <th>total_rec_int</th>\n",
              "      <th>last_pymnt_d</th>\n",
              "      <th>last_pymnt_amnt</th>\n",
              "      <th>next_pymnt_d</th>\n",
              "      <th>last_credit_pull_d</th>\n",
              "      <th>repay_fail</th>\n",
              "    </tr>\n",
              "  </thead>\n",
              "  <tbody>\n",
              "    <tr>\n",
              "      <th>0</th>\n",
              "      <td>2</td>\n",
              "      <td>2</td>\n",
              "      <td>2</td>\n",
              "      <td>0.0</td>\n",
              "      <td>0.0</td>\n",
              "      <td>0.0</td>\n",
              "      <td>36 months</td>\n",
              "      <td>0.00</td>\n",
              "      <td>0.00</td>\n",
              "      <td>&lt; 1 year</td>\n",
              "      <td>...</td>\n",
              "      <td>1.0</td>\n",
              "      <td>0.000000</td>\n",
              "      <td>0.00</td>\n",
              "      <td>0.00</td>\n",
              "      <td>0.00</td>\n",
              "      <td>2023-01-07</td>\n",
              "      <td>0.00</td>\n",
              "      <td>2023-01-07</td>\n",
              "      <td>2023-01-07</td>\n",
              "      <td>1</td>\n",
              "    </tr>\n",
              "    <tr>\n",
              "      <th>1</th>\n",
              "      <td>3</td>\n",
              "      <td>545583</td>\n",
              "      <td>703644</td>\n",
              "      <td>2500.0</td>\n",
              "      <td>2500.0</td>\n",
              "      <td>2500.0</td>\n",
              "      <td>36 months</td>\n",
              "      <td>13.98</td>\n",
              "      <td>85.42</td>\n",
              "      <td>4 years</td>\n",
              "      <td>...</td>\n",
              "      <td>10.0</td>\n",
              "      <td>3075.291779</td>\n",
              "      <td>3075.29</td>\n",
              "      <td>2500.00</td>\n",
              "      <td>575.29</td>\n",
              "      <td>2023-07-13</td>\n",
              "      <td>90.85</td>\n",
              "      <td>2023-08-13</td>\n",
              "      <td>2023-06-16</td>\n",
              "      <td>0</td>\n",
              "    </tr>\n",
              "    <tr>\n",
              "      <th>2</th>\n",
              "      <td>4</td>\n",
              "      <td>532101</td>\n",
              "      <td>687836</td>\n",
              "      <td>5000.0</td>\n",
              "      <td>5000.0</td>\n",
              "      <td>5000.0</td>\n",
              "      <td>36 months</td>\n",
              "      <td>15.95</td>\n",
              "      <td>175.67</td>\n",
              "      <td>4 years</td>\n",
              "      <td>...</td>\n",
              "      <td>15.0</td>\n",
              "      <td>2948.760000</td>\n",
              "      <td>2948.76</td>\n",
              "      <td>1909.02</td>\n",
              "      <td>873.81</td>\n",
              "      <td>2023-11-11</td>\n",
              "      <td>175.67</td>\n",
              "      <td>NaT</td>\n",
              "      <td>2023-03-12</td>\n",
              "      <td>1</td>\n",
              "    </tr>\n",
              "    <tr>\n",
              "      <th>3</th>\n",
              "      <td>5</td>\n",
              "      <td>877788</td>\n",
              "      <td>1092507</td>\n",
              "      <td>7000.0</td>\n",
              "      <td>7000.0</td>\n",
              "      <td>7000.0</td>\n",
              "      <td>36 months</td>\n",
              "      <td>9.91</td>\n",
              "      <td>225.58</td>\n",
              "      <td>10+ years</td>\n",
              "      <td>...</td>\n",
              "      <td>20.0</td>\n",
              "      <td>8082.391880</td>\n",
              "      <td>8082.39</td>\n",
              "      <td>7000.00</td>\n",
              "      <td>1082.39</td>\n",
              "      <td>2023-03-14</td>\n",
              "      <td>1550.27</td>\n",
              "      <td>NaT</td>\n",
              "      <td>2023-03-14</td>\n",
              "      <td>0</td>\n",
              "    </tr>\n",
              "    <tr>\n",
              "      <th>4</th>\n",
              "      <td>6</td>\n",
              "      <td>875406</td>\n",
              "      <td>1089981</td>\n",
              "      <td>2000.0</td>\n",
              "      <td>2000.0</td>\n",
              "      <td>2000.0</td>\n",
              "      <td>36 months</td>\n",
              "      <td>5.42</td>\n",
              "      <td>60.32</td>\n",
              "      <td>10+ years</td>\n",
              "      <td>...</td>\n",
              "      <td>15.0</td>\n",
              "      <td>2161.663244</td>\n",
              "      <td>2161.66</td>\n",
              "      <td>2000.00</td>\n",
              "      <td>161.66</td>\n",
              "      <td>2023-02-14</td>\n",
              "      <td>53.12</td>\n",
              "      <td>NaT</td>\n",
              "      <td>2023-06-16</td>\n",
              "      <td>0</td>\n",
              "    </tr>\n",
              "  </tbody>\n",
              "</table>\n",
              "<p>5 rows × 37 columns</p>\n",
              "</div>\n",
              "    <div class=\"colab-df-buttons\">\n",
              "\n",
              "  <div class=\"colab-df-container\">\n",
              "    <button class=\"colab-df-convert\" onclick=\"convertToInteractive('df-101b6683-cc55-4fdf-87cf-95753c4bc94d')\"\n",
              "            title=\"Convert this dataframe to an interactive table.\"\n",
              "            style=\"display:none;\">\n",
              "\n",
              "  <svg xmlns=\"http://www.w3.org/2000/svg\" height=\"24px\" viewBox=\"0 -960 960 960\">\n",
              "    <path d=\"M120-120v-720h720v720H120Zm60-500h600v-160H180v160Zm220 220h160v-160H400v160Zm0 220h160v-160H400v160ZM180-400h160v-160H180v160Zm440 0h160v-160H620v160ZM180-180h160v-160H180v160Zm440 0h160v-160H620v160Z\"/>\n",
              "  </svg>\n",
              "    </button>\n",
              "\n",
              "  <style>\n",
              "    .colab-df-container {\n",
              "      display:flex;\n",
              "      gap: 12px;\n",
              "    }\n",
              "\n",
              "    .colab-df-convert {\n",
              "      background-color: #E8F0FE;\n",
              "      border: none;\n",
              "      border-radius: 50%;\n",
              "      cursor: pointer;\n",
              "      display: none;\n",
              "      fill: #1967D2;\n",
              "      height: 32px;\n",
              "      padding: 0 0 0 0;\n",
              "      width: 32px;\n",
              "    }\n",
              "\n",
              "    .colab-df-convert:hover {\n",
              "      background-color: #E2EBFA;\n",
              "      box-shadow: 0px 1px 2px rgba(60, 64, 67, 0.3), 0px 1px 3px 1px rgba(60, 64, 67, 0.15);\n",
              "      fill: #174EA6;\n",
              "    }\n",
              "\n",
              "    .colab-df-buttons div {\n",
              "      margin-bottom: 4px;\n",
              "    }\n",
              "\n",
              "    [theme=dark] .colab-df-convert {\n",
              "      background-color: #3B4455;\n",
              "      fill: #D2E3FC;\n",
              "    }\n",
              "\n",
              "    [theme=dark] .colab-df-convert:hover {\n",
              "      background-color: #434B5C;\n",
              "      box-shadow: 0px 1px 3px 1px rgba(0, 0, 0, 0.15);\n",
              "      filter: drop-shadow(0px 1px 2px rgba(0, 0, 0, 0.3));\n",
              "      fill: #FFFFFF;\n",
              "    }\n",
              "  </style>\n",
              "\n",
              "    <script>\n",
              "      const buttonEl =\n",
              "        document.querySelector('#df-101b6683-cc55-4fdf-87cf-95753c4bc94d button.colab-df-convert');\n",
              "      buttonEl.style.display =\n",
              "        google.colab.kernel.accessAllowed ? 'block' : 'none';\n",
              "\n",
              "      async function convertToInteractive(key) {\n",
              "        const element = document.querySelector('#df-101b6683-cc55-4fdf-87cf-95753c4bc94d');\n",
              "        const dataTable =\n",
              "          await google.colab.kernel.invokeFunction('convertToInteractive',\n",
              "                                                    [key], {});\n",
              "        if (!dataTable) return;\n",
              "\n",
              "        const docLinkHtml = 'Like what you see? Visit the ' +\n",
              "          '<a target=\"_blank\" href=https://colab.research.google.com/notebooks/data_table.ipynb>data table notebook</a>'\n",
              "          + ' to learn more about interactive tables.';\n",
              "        element.innerHTML = '';\n",
              "        dataTable['output_type'] = 'display_data';\n",
              "        await google.colab.output.renderOutput(dataTable, element);\n",
              "        const docLink = document.createElement('div');\n",
              "        docLink.innerHTML = docLinkHtml;\n",
              "        element.appendChild(docLink);\n",
              "      }\n",
              "    </script>\n",
              "  </div>\n",
              "\n",
              "\n",
              "<div id=\"df-a9ae610f-6248-462a-8d6a-31814dee2c07\">\n",
              "  <button class=\"colab-df-quickchart\" onclick=\"quickchart('df-a9ae610f-6248-462a-8d6a-31814dee2c07')\"\n",
              "            title=\"Suggest charts.\"\n",
              "            style=\"display:none;\">\n",
              "\n",
              "<svg xmlns=\"http://www.w3.org/2000/svg\" height=\"24px\"viewBox=\"0 0 24 24\"\n",
              "     width=\"24px\">\n",
              "    <g>\n",
              "        <path d=\"M19 3H5c-1.1 0-2 .9-2 2v14c0 1.1.9 2 2 2h14c1.1 0 2-.9 2-2V5c0-1.1-.9-2-2-2zM9 17H7v-7h2v7zm4 0h-2V7h2v10zm4 0h-2v-4h2v4z\"/>\n",
              "    </g>\n",
              "</svg>\n",
              "  </button>\n",
              "\n",
              "<style>\n",
              "  .colab-df-quickchart {\n",
              "    background-color: #E8F0FE;\n",
              "    border: none;\n",
              "    border-radius: 50%;\n",
              "    cursor: pointer;\n",
              "    display: none;\n",
              "    fill: #1967D2;\n",
              "    height: 32px;\n",
              "    padding: 0 0 0 0;\n",
              "    width: 32px;\n",
              "  }\n",
              "\n",
              "  .colab-df-quickchart:hover {\n",
              "    background-color: #E2EBFA;\n",
              "    box-shadow: 0px 1px 2px rgba(60, 64, 67, 0.3), 0px 1px 3px 1px rgba(60, 64, 67, 0.15);\n",
              "    fill: #174EA6;\n",
              "  }\n",
              "\n",
              "  [theme=dark] .colab-df-quickchart {\n",
              "    background-color: #3B4455;\n",
              "    fill: #D2E3FC;\n",
              "  }\n",
              "\n",
              "  [theme=dark] .colab-df-quickchart:hover {\n",
              "    background-color: #434B5C;\n",
              "    box-shadow: 0px 1px 3px 1px rgba(0, 0, 0, 0.15);\n",
              "    filter: drop-shadow(0px 1px 2px rgba(0, 0, 0, 0.3));\n",
              "    fill: #FFFFFF;\n",
              "  }\n",
              "</style>\n",
              "\n",
              "  <script>\n",
              "    async function quickchart(key) {\n",
              "      const charts = await google.colab.kernel.invokeFunction(\n",
              "          'suggestCharts', [key], {});\n",
              "    }\n",
              "    (() => {\n",
              "      let quickchartButtonEl =\n",
              "        document.querySelector('#df-a9ae610f-6248-462a-8d6a-31814dee2c07 button');\n",
              "      quickchartButtonEl.style.display =\n",
              "        google.colab.kernel.accessAllowed ? 'block' : 'none';\n",
              "    })();\n",
              "  </script>\n",
              "</div>\n",
              "    </div>\n",
              "  </div>\n"
            ]
          },
          "metadata": {},
          "execution_count": 6
        }
      ],
      "source": [
        "df.head()"
      ]
    },
    {
      "cell_type": "code",
      "execution_count": 7,
      "id": "f8131a46",
      "metadata": {
        "id": "f8131a46"
      },
      "outputs": [],
      "source": [
        "df.drop(columns=['id','member_id', 'loan_amnt','funded_amnt_inv','issue_d','zip_code','addr_state','dti','delinq_2yrs','earliest_cr_line','inq_last_6mths','mths_since_last_delinq','open_acc','pub_rec','revol_bal','revol_util','total_acc','total_pymnt_inv','total_rec_int','last_pymnt_d','last_pymnt_amnt','next_pymnt_d','last_credit_pull_d'],inplace=True)"
      ]
    },
    {
      "cell_type": "code",
      "execution_count": 8,
      "id": "6a679647",
      "metadata": {
        "colab": {
          "base_uri": "https://localhost:8080/",
          "height": 687
        },
        "id": "6a679647",
        "outputId": "9ec0a9f7-7133-44eb-e21d-6850f6bfbe9b"
      },
      "outputs": [
        {
          "output_type": "execute_result",
          "data": {
            "text/plain": [
              "       Unnamed: 0  funded_amnt       term  int_rate  installment emp_length  \\\n",
              "0               2          0.0  36 months      0.00         0.00   < 1 year   \n",
              "1               3       2500.0  36 months     13.98        85.42    4 years   \n",
              "2               4       5000.0  36 months     15.95       175.67    4 years   \n",
              "3               5       7000.0  36 months      9.91       225.58  10+ years   \n",
              "4               6       2000.0  36 months      5.42        60.32  10+ years   \n",
              "...           ...          ...        ...       ...          ...        ...   \n",
              "38475       38476       3000.0  36 months     11.99        99.63    3 years   \n",
              "38476       38477      10400.0  36 months     13.49       352.88    9 years   \n",
              "38477       38478      10550.0  60 months     14.96       250.77  10+ years   \n",
              "38478       38479      10000.0  36 months     16.89       355.99     1 year   \n",
              "38479       38480       3200.0  36 months     13.49       108.58    7 years   \n",
              "\n",
              "      home_ownership  annual_inc verification_status  \\\n",
              "0               RENT         0.0        Not Verified   \n",
              "1               RENT     20004.0        Not Verified   \n",
              "2               RENT     59000.0        Not Verified   \n",
              "3           MORTGAGE     53796.0        Not Verified   \n",
              "4               RENT     30000.0        Not Verified   \n",
              "...              ...         ...                 ...   \n",
              "38475           RENT     74250.0            Verified   \n",
              "38476           RENT     62000.0     Source Verified   \n",
              "38477       MORTGAGE     95088.0     Source Verified   \n",
              "38478           RENT     48720.0        Not Verified   \n",
              "38479           RENT     38400.0     Source Verified   \n",
              "\n",
              "                                             loan_status             purpose  \\\n",
              "0                                            Charged Off      major_purchase   \n",
              "1      Does not meet the credit policy. Status:Fully ...               other   \n",
              "2                                            Charged Off  debt_consolidation   \n",
              "3                                             Fully Paid               other   \n",
              "4                                             Fully Paid  debt_consolidation   \n",
              "...                                                  ...                 ...   \n",
              "38475                                         Fully Paid         credit_card   \n",
              "38476                                         Fully Paid         credit_card   \n",
              "38477                                         Fully Paid  debt_consolidation   \n",
              "38478                                         Fully Paid  debt_consolidation   \n",
              "38479                                         Fully Paid  debt_consolidation   \n",
              "\n",
              "        total_pymnt  total_rec_prncp  repay_fail  \n",
              "0          0.000000             0.00           1  \n",
              "1       3075.291779          2500.00           0  \n",
              "2       2948.760000          1909.02           1  \n",
              "3       8082.391880          7000.00           0  \n",
              "4       2161.663244          2000.00           0  \n",
              "...             ...              ...         ...  \n",
              "38475   3586.619764          3000.00           0  \n",
              "38476  12703.534030         10400.00           0  \n",
              "38477  14202.267530         10550.00           0  \n",
              "38478  12815.178320         10000.00           0  \n",
              "38479   3908.767275          3200.00           0  \n",
              "\n",
              "[38480 rows x 14 columns]"
            ],
            "text/html": [
              "\n",
              "  <div id=\"df-30ee3c5a-dfc6-43cf-a257-6fc551d685e7\" class=\"colab-df-container\">\n",
              "    <div>\n",
              "<style scoped>\n",
              "    .dataframe tbody tr th:only-of-type {\n",
              "        vertical-align: middle;\n",
              "    }\n",
              "\n",
              "    .dataframe tbody tr th {\n",
              "        vertical-align: top;\n",
              "    }\n",
              "\n",
              "    .dataframe thead th {\n",
              "        text-align: right;\n",
              "    }\n",
              "</style>\n",
              "<table border=\"1\" class=\"dataframe\">\n",
              "  <thead>\n",
              "    <tr style=\"text-align: right;\">\n",
              "      <th></th>\n",
              "      <th>Unnamed: 0</th>\n",
              "      <th>funded_amnt</th>\n",
              "      <th>term</th>\n",
              "      <th>int_rate</th>\n",
              "      <th>installment</th>\n",
              "      <th>emp_length</th>\n",
              "      <th>home_ownership</th>\n",
              "      <th>annual_inc</th>\n",
              "      <th>verification_status</th>\n",
              "      <th>loan_status</th>\n",
              "      <th>purpose</th>\n",
              "      <th>total_pymnt</th>\n",
              "      <th>total_rec_prncp</th>\n",
              "      <th>repay_fail</th>\n",
              "    </tr>\n",
              "  </thead>\n",
              "  <tbody>\n",
              "    <tr>\n",
              "      <th>0</th>\n",
              "      <td>2</td>\n",
              "      <td>0.0</td>\n",
              "      <td>36 months</td>\n",
              "      <td>0.00</td>\n",
              "      <td>0.00</td>\n",
              "      <td>&lt; 1 year</td>\n",
              "      <td>RENT</td>\n",
              "      <td>0.0</td>\n",
              "      <td>Not Verified</td>\n",
              "      <td>Charged Off</td>\n",
              "      <td>major_purchase</td>\n",
              "      <td>0.000000</td>\n",
              "      <td>0.00</td>\n",
              "      <td>1</td>\n",
              "    </tr>\n",
              "    <tr>\n",
              "      <th>1</th>\n",
              "      <td>3</td>\n",
              "      <td>2500.0</td>\n",
              "      <td>36 months</td>\n",
              "      <td>13.98</td>\n",
              "      <td>85.42</td>\n",
              "      <td>4 years</td>\n",
              "      <td>RENT</td>\n",
              "      <td>20004.0</td>\n",
              "      <td>Not Verified</td>\n",
              "      <td>Does not meet the credit policy. Status:Fully ...</td>\n",
              "      <td>other</td>\n",
              "      <td>3075.291779</td>\n",
              "      <td>2500.00</td>\n",
              "      <td>0</td>\n",
              "    </tr>\n",
              "    <tr>\n",
              "      <th>2</th>\n",
              "      <td>4</td>\n",
              "      <td>5000.0</td>\n",
              "      <td>36 months</td>\n",
              "      <td>15.95</td>\n",
              "      <td>175.67</td>\n",
              "      <td>4 years</td>\n",
              "      <td>RENT</td>\n",
              "      <td>59000.0</td>\n",
              "      <td>Not Verified</td>\n",
              "      <td>Charged Off</td>\n",
              "      <td>debt_consolidation</td>\n",
              "      <td>2948.760000</td>\n",
              "      <td>1909.02</td>\n",
              "      <td>1</td>\n",
              "    </tr>\n",
              "    <tr>\n",
              "      <th>3</th>\n",
              "      <td>5</td>\n",
              "      <td>7000.0</td>\n",
              "      <td>36 months</td>\n",
              "      <td>9.91</td>\n",
              "      <td>225.58</td>\n",
              "      <td>10+ years</td>\n",
              "      <td>MORTGAGE</td>\n",
              "      <td>53796.0</td>\n",
              "      <td>Not Verified</td>\n",
              "      <td>Fully Paid</td>\n",
              "      <td>other</td>\n",
              "      <td>8082.391880</td>\n",
              "      <td>7000.00</td>\n",
              "      <td>0</td>\n",
              "    </tr>\n",
              "    <tr>\n",
              "      <th>4</th>\n",
              "      <td>6</td>\n",
              "      <td>2000.0</td>\n",
              "      <td>36 months</td>\n",
              "      <td>5.42</td>\n",
              "      <td>60.32</td>\n",
              "      <td>10+ years</td>\n",
              "      <td>RENT</td>\n",
              "      <td>30000.0</td>\n",
              "      <td>Not Verified</td>\n",
              "      <td>Fully Paid</td>\n",
              "      <td>debt_consolidation</td>\n",
              "      <td>2161.663244</td>\n",
              "      <td>2000.00</td>\n",
              "      <td>0</td>\n",
              "    </tr>\n",
              "    <tr>\n",
              "      <th>...</th>\n",
              "      <td>...</td>\n",
              "      <td>...</td>\n",
              "      <td>...</td>\n",
              "      <td>...</td>\n",
              "      <td>...</td>\n",
              "      <td>...</td>\n",
              "      <td>...</td>\n",
              "      <td>...</td>\n",
              "      <td>...</td>\n",
              "      <td>...</td>\n",
              "      <td>...</td>\n",
              "      <td>...</td>\n",
              "      <td>...</td>\n",
              "      <td>...</td>\n",
              "    </tr>\n",
              "    <tr>\n",
              "      <th>38475</th>\n",
              "      <td>38476</td>\n",
              "      <td>3000.0</td>\n",
              "      <td>36 months</td>\n",
              "      <td>11.99</td>\n",
              "      <td>99.63</td>\n",
              "      <td>3 years</td>\n",
              "      <td>RENT</td>\n",
              "      <td>74250.0</td>\n",
              "      <td>Verified</td>\n",
              "      <td>Fully Paid</td>\n",
              "      <td>credit_card</td>\n",
              "      <td>3586.619764</td>\n",
              "      <td>3000.00</td>\n",
              "      <td>0</td>\n",
              "    </tr>\n",
              "    <tr>\n",
              "      <th>38476</th>\n",
              "      <td>38477</td>\n",
              "      <td>10400.0</td>\n",
              "      <td>36 months</td>\n",
              "      <td>13.49</td>\n",
              "      <td>352.88</td>\n",
              "      <td>9 years</td>\n",
              "      <td>RENT</td>\n",
              "      <td>62000.0</td>\n",
              "      <td>Source Verified</td>\n",
              "      <td>Fully Paid</td>\n",
              "      <td>credit_card</td>\n",
              "      <td>12703.534030</td>\n",
              "      <td>10400.00</td>\n",
              "      <td>0</td>\n",
              "    </tr>\n",
              "    <tr>\n",
              "      <th>38477</th>\n",
              "      <td>38478</td>\n",
              "      <td>10550.0</td>\n",
              "      <td>60 months</td>\n",
              "      <td>14.96</td>\n",
              "      <td>250.77</td>\n",
              "      <td>10+ years</td>\n",
              "      <td>MORTGAGE</td>\n",
              "      <td>95088.0</td>\n",
              "      <td>Source Verified</td>\n",
              "      <td>Fully Paid</td>\n",
              "      <td>debt_consolidation</td>\n",
              "      <td>14202.267530</td>\n",
              "      <td>10550.00</td>\n",
              "      <td>0</td>\n",
              "    </tr>\n",
              "    <tr>\n",
              "      <th>38478</th>\n",
              "      <td>38479</td>\n",
              "      <td>10000.0</td>\n",
              "      <td>36 months</td>\n",
              "      <td>16.89</td>\n",
              "      <td>355.99</td>\n",
              "      <td>1 year</td>\n",
              "      <td>RENT</td>\n",
              "      <td>48720.0</td>\n",
              "      <td>Not Verified</td>\n",
              "      <td>Fully Paid</td>\n",
              "      <td>debt_consolidation</td>\n",
              "      <td>12815.178320</td>\n",
              "      <td>10000.00</td>\n",
              "      <td>0</td>\n",
              "    </tr>\n",
              "    <tr>\n",
              "      <th>38479</th>\n",
              "      <td>38480</td>\n",
              "      <td>3200.0</td>\n",
              "      <td>36 months</td>\n",
              "      <td>13.49</td>\n",
              "      <td>108.58</td>\n",
              "      <td>7 years</td>\n",
              "      <td>RENT</td>\n",
              "      <td>38400.0</td>\n",
              "      <td>Source Verified</td>\n",
              "      <td>Fully Paid</td>\n",
              "      <td>debt_consolidation</td>\n",
              "      <td>3908.767275</td>\n",
              "      <td>3200.00</td>\n",
              "      <td>0</td>\n",
              "    </tr>\n",
              "  </tbody>\n",
              "</table>\n",
              "<p>38480 rows × 14 columns</p>\n",
              "</div>\n",
              "    <div class=\"colab-df-buttons\">\n",
              "\n",
              "  <div class=\"colab-df-container\">\n",
              "    <button class=\"colab-df-convert\" onclick=\"convertToInteractive('df-30ee3c5a-dfc6-43cf-a257-6fc551d685e7')\"\n",
              "            title=\"Convert this dataframe to an interactive table.\"\n",
              "            style=\"display:none;\">\n",
              "\n",
              "  <svg xmlns=\"http://www.w3.org/2000/svg\" height=\"24px\" viewBox=\"0 -960 960 960\">\n",
              "    <path d=\"M120-120v-720h720v720H120Zm60-500h600v-160H180v160Zm220 220h160v-160H400v160Zm0 220h160v-160H400v160ZM180-400h160v-160H180v160Zm440 0h160v-160H620v160ZM180-180h160v-160H180v160Zm440 0h160v-160H620v160Z\"/>\n",
              "  </svg>\n",
              "    </button>\n",
              "\n",
              "  <style>\n",
              "    .colab-df-container {\n",
              "      display:flex;\n",
              "      gap: 12px;\n",
              "    }\n",
              "\n",
              "    .colab-df-convert {\n",
              "      background-color: #E8F0FE;\n",
              "      border: none;\n",
              "      border-radius: 50%;\n",
              "      cursor: pointer;\n",
              "      display: none;\n",
              "      fill: #1967D2;\n",
              "      height: 32px;\n",
              "      padding: 0 0 0 0;\n",
              "      width: 32px;\n",
              "    }\n",
              "\n",
              "    .colab-df-convert:hover {\n",
              "      background-color: #E2EBFA;\n",
              "      box-shadow: 0px 1px 2px rgba(60, 64, 67, 0.3), 0px 1px 3px 1px rgba(60, 64, 67, 0.15);\n",
              "      fill: #174EA6;\n",
              "    }\n",
              "\n",
              "    .colab-df-buttons div {\n",
              "      margin-bottom: 4px;\n",
              "    }\n",
              "\n",
              "    [theme=dark] .colab-df-convert {\n",
              "      background-color: #3B4455;\n",
              "      fill: #D2E3FC;\n",
              "    }\n",
              "\n",
              "    [theme=dark] .colab-df-convert:hover {\n",
              "      background-color: #434B5C;\n",
              "      box-shadow: 0px 1px 3px 1px rgba(0, 0, 0, 0.15);\n",
              "      filter: drop-shadow(0px 1px 2px rgba(0, 0, 0, 0.3));\n",
              "      fill: #FFFFFF;\n",
              "    }\n",
              "  </style>\n",
              "\n",
              "    <script>\n",
              "      const buttonEl =\n",
              "        document.querySelector('#df-30ee3c5a-dfc6-43cf-a257-6fc551d685e7 button.colab-df-convert');\n",
              "      buttonEl.style.display =\n",
              "        google.colab.kernel.accessAllowed ? 'block' : 'none';\n",
              "\n",
              "      async function convertToInteractive(key) {\n",
              "        const element = document.querySelector('#df-30ee3c5a-dfc6-43cf-a257-6fc551d685e7');\n",
              "        const dataTable =\n",
              "          await google.colab.kernel.invokeFunction('convertToInteractive',\n",
              "                                                    [key], {});\n",
              "        if (!dataTable) return;\n",
              "\n",
              "        const docLinkHtml = 'Like what you see? Visit the ' +\n",
              "          '<a target=\"_blank\" href=https://colab.research.google.com/notebooks/data_table.ipynb>data table notebook</a>'\n",
              "          + ' to learn more about interactive tables.';\n",
              "        element.innerHTML = '';\n",
              "        dataTable['output_type'] = 'display_data';\n",
              "        await google.colab.output.renderOutput(dataTable, element);\n",
              "        const docLink = document.createElement('div');\n",
              "        docLink.innerHTML = docLinkHtml;\n",
              "        element.appendChild(docLink);\n",
              "      }\n",
              "    </script>\n",
              "  </div>\n",
              "\n",
              "\n",
              "<div id=\"df-cb0ad81f-3896-4263-b0d6-1364987ecb28\">\n",
              "  <button class=\"colab-df-quickchart\" onclick=\"quickchart('df-cb0ad81f-3896-4263-b0d6-1364987ecb28')\"\n",
              "            title=\"Suggest charts.\"\n",
              "            style=\"display:none;\">\n",
              "\n",
              "<svg xmlns=\"http://www.w3.org/2000/svg\" height=\"24px\"viewBox=\"0 0 24 24\"\n",
              "     width=\"24px\">\n",
              "    <g>\n",
              "        <path d=\"M19 3H5c-1.1 0-2 .9-2 2v14c0 1.1.9 2 2 2h14c1.1 0 2-.9 2-2V5c0-1.1-.9-2-2-2zM9 17H7v-7h2v7zm4 0h-2V7h2v10zm4 0h-2v-4h2v4z\"/>\n",
              "    </g>\n",
              "</svg>\n",
              "  </button>\n",
              "\n",
              "<style>\n",
              "  .colab-df-quickchart {\n",
              "    background-color: #E8F0FE;\n",
              "    border: none;\n",
              "    border-radius: 50%;\n",
              "    cursor: pointer;\n",
              "    display: none;\n",
              "    fill: #1967D2;\n",
              "    height: 32px;\n",
              "    padding: 0 0 0 0;\n",
              "    width: 32px;\n",
              "  }\n",
              "\n",
              "  .colab-df-quickchart:hover {\n",
              "    background-color: #E2EBFA;\n",
              "    box-shadow: 0px 1px 2px rgba(60, 64, 67, 0.3), 0px 1px 3px 1px rgba(60, 64, 67, 0.15);\n",
              "    fill: #174EA6;\n",
              "  }\n",
              "\n",
              "  [theme=dark] .colab-df-quickchart {\n",
              "    background-color: #3B4455;\n",
              "    fill: #D2E3FC;\n",
              "  }\n",
              "\n",
              "  [theme=dark] .colab-df-quickchart:hover {\n",
              "    background-color: #434B5C;\n",
              "    box-shadow: 0px 1px 3px 1px rgba(0, 0, 0, 0.15);\n",
              "    filter: drop-shadow(0px 1px 2px rgba(0, 0, 0, 0.3));\n",
              "    fill: #FFFFFF;\n",
              "  }\n",
              "</style>\n",
              "\n",
              "  <script>\n",
              "    async function quickchart(key) {\n",
              "      const charts = await google.colab.kernel.invokeFunction(\n",
              "          'suggestCharts', [key], {});\n",
              "    }\n",
              "    (() => {\n",
              "      let quickchartButtonEl =\n",
              "        document.querySelector('#df-cb0ad81f-3896-4263-b0d6-1364987ecb28 button');\n",
              "      quickchartButtonEl.style.display =\n",
              "        google.colab.kernel.accessAllowed ? 'block' : 'none';\n",
              "    })();\n",
              "  </script>\n",
              "</div>\n",
              "    </div>\n",
              "  </div>\n"
            ]
          },
          "metadata": {},
          "execution_count": 8
        }
      ],
      "source": [
        "df"
      ]
    },
    {
      "cell_type": "code",
      "execution_count": 9,
      "id": "93651c3c",
      "metadata": {
        "colab": {
          "base_uri": "https://localhost:8080/"
        },
        "id": "93651c3c",
        "outputId": "9c22a204-d5ae-4bbf-a62e-4f0207a44d4e"
      },
      "outputs": [
        {
          "output_type": "execute_result",
          "data": {
            "text/plain": [
              "Unnamed: 0               0\n",
              "funded_amnt              1\n",
              "term                     0\n",
              "int_rate                 0\n",
              "installment              1\n",
              "emp_length             993\n",
              "home_ownership           0\n",
              "annual_inc               2\n",
              "verification_status      0\n",
              "loan_status              0\n",
              "purpose                  0\n",
              "total_pymnt              1\n",
              "total_rec_prncp          1\n",
              "repay_fail               0\n",
              "dtype: int64"
            ]
          },
          "metadata": {},
          "execution_count": 9
        }
      ],
      "source": [
        "df.isnull().sum()"
      ]
    },
    {
      "cell_type": "code",
      "execution_count": 10,
      "id": "ffea23aa",
      "metadata": {
        "id": "ffea23aa"
      },
      "outputs": [],
      "source": [
        "df.dropna(inplace=True)"
      ]
    },
    {
      "cell_type": "code",
      "execution_count": 11,
      "id": "10003735",
      "metadata": {
        "colab": {
          "base_uri": "https://localhost:8080/"
        },
        "id": "10003735",
        "outputId": "c13e7bef-253d-4efd-aa33-bed94f35f99c"
      },
      "outputs": [
        {
          "output_type": "execute_result",
          "data": {
            "text/plain": [
              "Unnamed: 0             0\n",
              "funded_amnt            0\n",
              "term                   0\n",
              "int_rate               0\n",
              "installment            0\n",
              "emp_length             0\n",
              "home_ownership         0\n",
              "annual_inc             0\n",
              "verification_status    0\n",
              "loan_status            0\n",
              "purpose                0\n",
              "total_pymnt            0\n",
              "total_rec_prncp        0\n",
              "repay_fail             0\n",
              "dtype: int64"
            ]
          },
          "metadata": {},
          "execution_count": 11
        }
      ],
      "source": [
        "df.isnull().sum()"
      ]
    },
    {
      "cell_type": "code",
      "execution_count": 12,
      "id": "65ec3bc5",
      "metadata": {
        "id": "65ec3bc5"
      },
      "outputs": [],
      "source": [
        "df['term']=df['term'].str.replace('months','').astype(int)"
      ]
    },
    {
      "cell_type": "code",
      "execution_count": 13,
      "id": "0032e30d",
      "metadata": {
        "id": "0032e30d"
      },
      "outputs": [],
      "source": [
        "df['funded_amnt']=df['funded_amnt'].astype(int)"
      ]
    },
    {
      "cell_type": "code",
      "execution_count": 14,
      "id": "b0364bb3",
      "metadata": {
        "colab": {
          "base_uri": "https://localhost:8080/"
        },
        "id": "b0364bb3",
        "outputId": "c0898a87-251f-45ca-fcdb-485b2f68b3ff"
      },
      "outputs": [
        {
          "output_type": "execute_result",
          "data": {
            "text/plain": [
              "array([36, 60])"
            ]
          },
          "metadata": {},
          "execution_count": 14
        }
      ],
      "source": [
        "df.term.unique()"
      ]
    },
    {
      "cell_type": "code",
      "execution_count": 15,
      "id": "a7c46039",
      "metadata": {
        "id": "a7c46039"
      },
      "outputs": [],
      "source": [
        "backup=df.copy()"
      ]
    },
    {
      "cell_type": "code",
      "execution_count": 16,
      "id": "e41ac7e9",
      "metadata": {
        "colab": {
          "base_uri": "https://localhost:8080/"
        },
        "id": "e41ac7e9",
        "outputId": "7ce8330a-4b37-497d-d313-33b272fbff77"
      },
      "outputs": [
        {
          "output_type": "execute_result",
          "data": {
            "text/plain": [
              "array([36, 60])"
            ]
          },
          "metadata": {},
          "execution_count": 16
        }
      ],
      "source": [
        "df.term.unique()"
      ]
    },
    {
      "cell_type": "code",
      "execution_count": 17,
      "id": "76658f38",
      "metadata": {
        "colab": {
          "base_uri": "https://localhost:8080/"
        },
        "id": "76658f38",
        "outputId": "f594e07e-3ad8-4110-f001-43e429192b04"
      },
      "outputs": [
        {
          "output_type": "execute_result",
          "data": {
            "text/plain": [
              "array([ 0.  , 13.98, 15.95,  9.91,  5.42, 10.25,  7.49, 14.27, 23.22,\n",
              "       17.27, 13.79, 15.23,  6.54, 16.63,  9.99, 21.21, 11.83, 12.53,\n",
              "       13.61, 11.14,  8.9 , 15.99, 13.06, 14.17,  6.  , 16.35, 15.65,\n",
              "        9.63, 11.99, 16.49,  7.29,  6.92,  6.62, 18.62, 14.62, 11.49,\n",
              "       15.57,  9.88, 20.3 , 14.11, 10.59, 12.61, 18.36, 10.62, 10.75,\n",
              "       12.73, 14.79, 10.37, 14.54, 10.99,  7.66, 11.71,  7.14, 17.99,\n",
              "       14.72, 22.06, 12.99,  8.7 ,  8.49, 15.27, 10.46, 12.69,  6.91,\n",
              "        7.9 , 13.72, 14.84, 13.12, 13.75, 20.25, 11.03, 10.74, 13.23,\n",
              "       12.18, 13.99,  7.51, 13.35, 11.36, 14.26, 10.71,  9.32,  7.88,\n",
              "       18.3 , 14.42,  8.59, 17.14, 12.42, 16.45,  6.03, 13.48,  8.94,\n",
              "       12.98, 10.28, 18.39, 10.65, 13.22, 16.95, 14.59,  7.74, 11.89,\n",
              "        7.37, 11.86, 21.36,  9.76, 14.46, 13.49, 11.12,  6.39, 14.22,\n",
              "        6.17, 11.97,  6.99, 15.7 , 10.08, 18.79, 11.11, 12.72,  5.79,\n",
              "       13.92, 14.38, 17.93, 17.56, 13.16, 16.32, 17.88, 21.64, 13.11,\n",
              "       12.87, 13.57, 11.48, 17.19, 15.68, 16.82, 12.84, 15.58, 16.07,\n",
              "       12.68, 11.58, 16.89, 19.03, 17.58, 12.49,  8.88, 18.64, 10.36,\n",
              "       14.91, 18.61, 11.72, 14.18, 16.  , 16.4 ,  9.25, 14.65, 10.  ,\n",
              "       15.62, 14.96, 15.96, 17.51,  6.76, 15.33, 14.61, 14.74, 15.21,\n",
              "       16.69, 11.26, 17.66, 18.67, 15.2 ,  5.99, 19.74, 19.29,  9.62,\n",
              "       12.21, 17.39, 10.38, 10.95,  7.4 , 20.89, 10.83, 11.34, 17.54,\n",
              "       15.51, 13.8 , 16.77, 16.29,  8.  , 21.67, 12.22,  7.43, 15.31,\n",
              "       16.02, 13.47, 18.29, 20.03, 16.7 , 13.85, 19.42, 15.28,  9.67,\n",
              "       13.84, 10.39, 10.78,  7.68, 14.83, 20.62, 18.43, 12.12, 12.23,\n",
              "        8.63,  8.32, 16.15, 11.66, 22.11, 21.74, 13.55, 12.29, 18.25,\n",
              "       15.37, 19.69, 14.35, 19.79,  9.64, 14.82, 15.45, 14.5 ,  9.01,\n",
              "       15.05, 13.24, 12.92, 20.85, 14.09, 17.49, 13.3 , 21.59, 19.47,\n",
              "       20.11, 13.43, 11.09, 11.46, 22.64, 19.91,  9.7 , 18.54, 17.26,\n",
              "        9.96, 13.17, 18.72, 11.78, 10.33, 17.43, 10.2 ,  9.83, 16.08,\n",
              "       20.9 , 22.48, 17.06, 18.91,  9.38, 10.91, 17.03, 17.28, 21.28,\n",
              "       19.66, 12.8 , 19.36, 13.87, 17.86, 15.13, 12.86, 13.93, 18.09,\n",
              "       15.07, 20.77, 13.04, 17.74, 23.52, 10.51,  9.2 , 14.07, 14.43,\n",
              "       20.99, 12.04, 20.53, 19.04, 19.16, 10.96, 23.91,  7.05,  7.12,\n",
              "        9.07, 14.3 , 20.17, 10.64, 16.01, 19.41, 15.38, 11.59, 17.59,\n",
              "       17.8 , 16.59, 13.62, 20.48,  7.75, 20.2 ,  7.42, 16.28,  8.38,\n",
              "       22.35, 21.14, 18.07, 18.17,  9.45, 11.63, 17.44, 12.41, 11.41,\n",
              "       15.76, 18.04, 17.04, 16.71, 19.39, 20.16, 23.13, 15.01, 15.83,\n",
              "        9.33, 18.78, 18.53, 22.74,  9.51, 20.52, 13.36, 18.84, 14.88,\n",
              "       12.09, 14.12, 11.91,  7.91, 14.57, 16.11, 12.36, 20.86,  8.07,\n",
              "       18.99, 19.13, 15.88, 11.22, 24.11, 18.86, 10.01, 20.4 , 18.21,\n",
              "       11.54, 14.75, 13.67, 23.59, 11.28, 21.27, 17.9 , 12.17, 10.14,\n",
              "       14.25, 12.67, 17.34, 14.7 , 16.96, 20.69, 17.22, 16.91, 22.85,\n",
              "       16.46, 16.65, 17.72, 12.54, 21.22, 17.97, 14.93, 15.25, 22.94,\n",
              "       17.15, 17.41, 19.82, 16.83, 17.91, 17.09, 14.67, 18.49, 16.33,\n",
              "       12.62, 17.46, 21.82, 17.78])"
            ]
          },
          "metadata": {},
          "execution_count": 17
        }
      ],
      "source": [
        "df.int_rate.unique()"
      ]
    },
    {
      "cell_type": "code",
      "execution_count": null,
      "id": "739f1fe1",
      "metadata": {
        "id": "739f1fe1"
      },
      "outputs": [],
      "source": [
        "df.installment.unique()"
      ]
    },
    {
      "cell_type": "code",
      "execution_count": 18,
      "id": "10f3554c",
      "metadata": {
        "colab": {
          "base_uri": "https://localhost:8080/"
        },
        "id": "10f3554c",
        "outputId": "f3fb9cc4-4241-4dc7-bd48-38f31a570787"
      },
      "outputs": [
        {
          "output_type": "execute_result",
          "data": {
            "text/plain": [
              "array(['< 1 year', '4 years', '10+ years', '3 years', '5 years',\n",
              "       '7 years', '2 years', '1 year', '6 years', '9 years', '8 years'],\n",
              "      dtype=object)"
            ]
          },
          "metadata": {},
          "execution_count": 18
        }
      ],
      "source": [
        "df.emp_length.unique()"
      ]
    },
    {
      "cell_type": "code",
      "execution_count": 19,
      "id": "701f0fee",
      "metadata": {
        "id": "701f0fee"
      },
      "outputs": [],
      "source": [
        "emp_length_mapping={\n",
        "    '< 1 year':0,\n",
        "    '1 year' :1,\n",
        "    '2 years':2,\n",
        "    '3 years':3,\n",
        "    '4 years':4,\n",
        "    '5 years':5,\n",
        "    '6 years':6,\n",
        "    '7 years':7,\n",
        "    '8 years':8,\n",
        "    '9 years':9,\n",
        "    '10+ years':10\n",
        "}"
      ]
    },
    {
      "cell_type": "code",
      "execution_count": 20,
      "id": "4c0572bd",
      "metadata": {
        "id": "4c0572bd"
      },
      "outputs": [],
      "source": [
        "df['emp_length']=df['emp_length'].replace(emp_length_mapping)"
      ]
    },
    {
      "cell_type": "code",
      "execution_count": 21,
      "id": "3fa83d51",
      "metadata": {
        "colab": {
          "base_uri": "https://localhost:8080/"
        },
        "id": "3fa83d51",
        "outputId": "1443066e-6142-4b73-86bc-7c14d6534ca2"
      },
      "outputs": [
        {
          "output_type": "execute_result",
          "data": {
            "text/plain": [
              "array([ 0,  4, 10,  3,  5,  7,  2,  1,  6,  9,  8])"
            ]
          },
          "metadata": {},
          "execution_count": 21
        }
      ],
      "source": [
        "df.emp_length.unique()"
      ]
    },
    {
      "cell_type": "code",
      "execution_count": 22,
      "id": "3aaea04f",
      "metadata": {
        "colab": {
          "base_uri": "https://localhost:8080/"
        },
        "id": "3aaea04f",
        "outputId": "08b17065-de04-44ca-ee51-70733b3e9a57"
      },
      "outputs": [
        {
          "output_type": "execute_result",
          "data": {
            "text/plain": [
              "array(['RENT', 'MORTGAGE', 'OWN', 'OTHER', 'NONE'], dtype=object)"
            ]
          },
          "metadata": {},
          "execution_count": 22
        }
      ],
      "source": [
        "df.home_ownership.unique()"
      ]
    },
    {
      "cell_type": "code",
      "execution_count": 23,
      "id": "59b9807d",
      "metadata": {
        "id": "59b9807d"
      },
      "outputs": [],
      "source": [
        "df['home_ownership']=df['home_ownership'].str.replace('NONE','OTHER')"
      ]
    },
    {
      "cell_type": "code",
      "execution_count": 24,
      "id": "2bbebb27",
      "metadata": {
        "colab": {
          "base_uri": "https://localhost:8080/"
        },
        "id": "2bbebb27",
        "outputId": "11426073-66f4-4735-a57a-2abf2d205f31"
      },
      "outputs": [
        {
          "output_type": "execute_result",
          "data": {
            "text/plain": [
              "array(['RENT', 'MORTGAGE', 'OWN', 'OTHER'], dtype=object)"
            ]
          },
          "metadata": {},
          "execution_count": 24
        }
      ],
      "source": [
        "df.home_ownership.unique()"
      ]
    },
    {
      "cell_type": "code",
      "execution_count": 25,
      "id": "4c6305a5",
      "metadata": {
        "id": "4c6305a5"
      },
      "outputs": [],
      "source": [
        "verification_status_mapping = {\n",
        "    'Not Verified':0,\n",
        "    'Verified':1,\n",
        "    'Source Verified':1\n",
        "\n",
        "}"
      ]
    },
    {
      "cell_type": "code",
      "execution_count": 26,
      "id": "4b313ac8",
      "metadata": {
        "id": "4b313ac8"
      },
      "outputs": [],
      "source": [
        "df['verification_status']=df['verification_status'].replace(verification_status_mapping)"
      ]
    },
    {
      "cell_type": "code",
      "execution_count": 27,
      "id": "a9457dbb",
      "metadata": {
        "colab": {
          "base_uri": "https://localhost:8080/"
        },
        "id": "a9457dbb",
        "outputId": "73f3f831-33f8-4386-9377-9a9924e9b41d"
      },
      "outputs": [
        {
          "output_type": "execute_result",
          "data": {
            "text/plain": [
              "array(['Charged Off',\n",
              "       'Does not meet the credit policy. Status:Fully Paid', 'Fully Paid',\n",
              "       'Does not meet the credit policy. Status:Charged Off', 'Current',\n",
              "       'Late (31-120 days)', 'In Grace Period', 'Late (16-30 days)',\n",
              "       'Default'], dtype=object)"
            ]
          },
          "metadata": {},
          "execution_count": 27
        }
      ],
      "source": [
        "df.loan_status.unique()"
      ]
    },
    {
      "cell_type": "code",
      "execution_count": 28,
      "id": "bb6370b7",
      "metadata": {
        "colab": {
          "base_uri": "https://localhost:8080/"
        },
        "id": "bb6370b7",
        "outputId": "507bae93-a144-455a-c55f-45ce71cac20f"
      },
      "outputs": [
        {
          "output_type": "execute_result",
          "data": {
            "text/plain": [
              "Fully Paid                                             29266\n",
              "Charged Off                                             4908\n",
              "Does not meet the credit policy. Status:Fully Paid      1764\n",
              "Current                                                  832\n",
              "Does not meet the credit policy. Status:Charged Off      674\n",
              "Late (31-120 days)                                        19\n",
              "In Grace Period                                           14\n",
              "Late (16-30 days)                                          7\n",
              "Default                                                    1\n",
              "Name: loan_status, dtype: int64"
            ]
          },
          "metadata": {},
          "execution_count": 28
        }
      ],
      "source": [
        "df.loan_status.value_counts()"
      ]
    },
    {
      "cell_type": "code",
      "execution_count": 29,
      "id": "8db7e0ff",
      "metadata": {
        "id": "8db7e0ff"
      },
      "outputs": [],
      "source": [
        "loan_status_mapping={\n",
        "    'Does not meet the credit policy. Status:Fully Paid':'Fully Paid',\n",
        "    'Does not meet the credit policy. Status:Charged Off':'Charged Off',\n",
        "    'Late (31-120 days)':'Others',\n",
        "    'In Grace Period':'Others',\n",
        "    'Late (16-30 days)':'Others',\n",
        "    'Default':'Others'\n",
        "\n",
        "}"
      ]
    },
    {
      "cell_type": "code",
      "execution_count": 30,
      "id": "57f78b95",
      "metadata": {
        "id": "57f78b95"
      },
      "outputs": [],
      "source": [
        "df['loan_status']=df['loan_status'].replace(loan_status_mapping)"
      ]
    },
    {
      "cell_type": "code",
      "execution_count": 31,
      "id": "b7d10358",
      "metadata": {
        "colab": {
          "base_uri": "https://localhost:8080/"
        },
        "id": "b7d10358",
        "outputId": "7eab9c4d-b6fe-4c71-9349-5cd7662c8397"
      },
      "outputs": [
        {
          "output_type": "execute_result",
          "data": {
            "text/plain": [
              "array(['major_purchase', 'other', 'debt_consolidation', 'credit_card',\n",
              "       'small_business', 'wedding', 'medical', 'car', 'home_improvement',\n",
              "       'vacation', 'educational', 'house', 'moving', 'renewable_energy'],\n",
              "      dtype=object)"
            ]
          },
          "metadata": {},
          "execution_count": 31
        }
      ],
      "source": [
        "df.purpose.unique()"
      ]
    },
    {
      "cell_type": "code",
      "execution_count": 32,
      "id": "c85fa017",
      "metadata": {
        "colab": {
          "base_uri": "https://localhost:8080/"
        },
        "id": "c85fa017",
        "outputId": "479ba925-ccd1-492e-f0c1-e0051618b957"
      },
      "outputs": [
        {
          "output_type": "execute_result",
          "data": {
            "text/plain": [
              "array(['Charged Off', 'Fully Paid', 'Current', 'Others'], dtype=object)"
            ]
          },
          "metadata": {},
          "execution_count": 32
        }
      ],
      "source": [
        "df.loan_status.unique()"
      ]
    },
    {
      "cell_type": "code",
      "execution_count": 33,
      "id": "411ecfd5",
      "metadata": {
        "colab": {
          "base_uri": "https://localhost:8080/"
        },
        "id": "411ecfd5",
        "outputId": "f5c2584e-9210-4289-fe2b-77e35d5d78e6"
      },
      "outputs": [
        {
          "output_type": "execute_result",
          "data": {
            "text/plain": [
              "0    31876\n",
              "1     5609\n",
              "Name: repay_fail, dtype: int64"
            ]
          },
          "metadata": {},
          "execution_count": 33
        }
      ],
      "source": [
        "df.repay_fail.value_counts()"
      ]
    },
    {
      "cell_type": "code",
      "execution_count": null,
      "id": "4436bfe8",
      "metadata": {
        "id": "4436bfe8",
        "outputId": "9e1ef106-394b-454b-d5eb-910dd9ab1c46"
      },
      "outputs": [
        {
          "data": {
            "text/html": [
              "<div>\n",
              "<style scoped>\n",
              "    .dataframe tbody tr th:only-of-type {\n",
              "        vertical-align: middle;\n",
              "    }\n",
              "\n",
              "    .dataframe tbody tr th {\n",
              "        vertical-align: top;\n",
              "    }\n",
              "\n",
              "    .dataframe thead th {\n",
              "        text-align: right;\n",
              "    }\n",
              "</style>\n",
              "<table border=\"1\" class=\"dataframe\">\n",
              "  <thead>\n",
              "    <tr style=\"text-align: right;\">\n",
              "      <th></th>\n",
              "      <th>Unnamed: 0</th>\n",
              "      <th>funded_amnt</th>\n",
              "      <th>term</th>\n",
              "      <th>int_rate</th>\n",
              "      <th>installment</th>\n",
              "      <th>emp_length</th>\n",
              "      <th>home_ownership</th>\n",
              "      <th>annual_inc</th>\n",
              "      <th>verification_status</th>\n",
              "      <th>loan_status</th>\n",
              "      <th>purpose</th>\n",
              "      <th>total_pymnt</th>\n",
              "      <th>total_rec_prncp</th>\n",
              "      <th>repay_fail</th>\n",
              "    </tr>\n",
              "  </thead>\n",
              "  <tbody>\n",
              "    <tr>\n",
              "      <th>0</th>\n",
              "      <td>2</td>\n",
              "      <td>0</td>\n",
              "      <td>36</td>\n",
              "      <td>0.00</td>\n",
              "      <td>0.00</td>\n",
              "      <td>0</td>\n",
              "      <td>RENT</td>\n",
              "      <td>0.0</td>\n",
              "      <td>0</td>\n",
              "      <td>Charged Off</td>\n",
              "      <td>major_purchase</td>\n",
              "      <td>0.000000</td>\n",
              "      <td>0.00</td>\n",
              "      <td>1</td>\n",
              "    </tr>\n",
              "    <tr>\n",
              "      <th>1</th>\n",
              "      <td>3</td>\n",
              "      <td>2500</td>\n",
              "      <td>36</td>\n",
              "      <td>13.98</td>\n",
              "      <td>85.42</td>\n",
              "      <td>4</td>\n",
              "      <td>RENT</td>\n",
              "      <td>20004.0</td>\n",
              "      <td>0</td>\n",
              "      <td>Fully Paid</td>\n",
              "      <td>other</td>\n",
              "      <td>3075.291779</td>\n",
              "      <td>2500.00</td>\n",
              "      <td>0</td>\n",
              "    </tr>\n",
              "    <tr>\n",
              "      <th>2</th>\n",
              "      <td>4</td>\n",
              "      <td>5000</td>\n",
              "      <td>36</td>\n",
              "      <td>15.95</td>\n",
              "      <td>175.67</td>\n",
              "      <td>4</td>\n",
              "      <td>RENT</td>\n",
              "      <td>59000.0</td>\n",
              "      <td>0</td>\n",
              "      <td>Charged Off</td>\n",
              "      <td>debt_consolidation</td>\n",
              "      <td>2948.760000</td>\n",
              "      <td>1909.02</td>\n",
              "      <td>1</td>\n",
              "    </tr>\n",
              "    <tr>\n",
              "      <th>3</th>\n",
              "      <td>5</td>\n",
              "      <td>7000</td>\n",
              "      <td>36</td>\n",
              "      <td>9.91</td>\n",
              "      <td>225.58</td>\n",
              "      <td>10</td>\n",
              "      <td>MORTGAGE</td>\n",
              "      <td>53796.0</td>\n",
              "      <td>0</td>\n",
              "      <td>Fully Paid</td>\n",
              "      <td>other</td>\n",
              "      <td>8082.391880</td>\n",
              "      <td>7000.00</td>\n",
              "      <td>0</td>\n",
              "    </tr>\n",
              "    <tr>\n",
              "      <th>4</th>\n",
              "      <td>6</td>\n",
              "      <td>2000</td>\n",
              "      <td>36</td>\n",
              "      <td>5.42</td>\n",
              "      <td>60.32</td>\n",
              "      <td>10</td>\n",
              "      <td>RENT</td>\n",
              "      <td>30000.0</td>\n",
              "      <td>0</td>\n",
              "      <td>Fully Paid</td>\n",
              "      <td>debt_consolidation</td>\n",
              "      <td>2161.663244</td>\n",
              "      <td>2000.00</td>\n",
              "      <td>0</td>\n",
              "    </tr>\n",
              "    <tr>\n",
              "      <th>...</th>\n",
              "      <td>...</td>\n",
              "      <td>...</td>\n",
              "      <td>...</td>\n",
              "      <td>...</td>\n",
              "      <td>...</td>\n",
              "      <td>...</td>\n",
              "      <td>...</td>\n",
              "      <td>...</td>\n",
              "      <td>...</td>\n",
              "      <td>...</td>\n",
              "      <td>...</td>\n",
              "      <td>...</td>\n",
              "      <td>...</td>\n",
              "      <td>...</td>\n",
              "    </tr>\n",
              "    <tr>\n",
              "      <th>38475</th>\n",
              "      <td>38476</td>\n",
              "      <td>3000</td>\n",
              "      <td>36</td>\n",
              "      <td>11.99</td>\n",
              "      <td>99.63</td>\n",
              "      <td>3</td>\n",
              "      <td>RENT</td>\n",
              "      <td>74250.0</td>\n",
              "      <td>1</td>\n",
              "      <td>Fully Paid</td>\n",
              "      <td>credit_card</td>\n",
              "      <td>3586.619764</td>\n",
              "      <td>3000.00</td>\n",
              "      <td>0</td>\n",
              "    </tr>\n",
              "    <tr>\n",
              "      <th>38476</th>\n",
              "      <td>38477</td>\n",
              "      <td>10400</td>\n",
              "      <td>36</td>\n",
              "      <td>13.49</td>\n",
              "      <td>352.88</td>\n",
              "      <td>9</td>\n",
              "      <td>RENT</td>\n",
              "      <td>62000.0</td>\n",
              "      <td>1</td>\n",
              "      <td>Fully Paid</td>\n",
              "      <td>credit_card</td>\n",
              "      <td>12703.534030</td>\n",
              "      <td>10400.00</td>\n",
              "      <td>0</td>\n",
              "    </tr>\n",
              "    <tr>\n",
              "      <th>38477</th>\n",
              "      <td>38478</td>\n",
              "      <td>10550</td>\n",
              "      <td>60</td>\n",
              "      <td>14.96</td>\n",
              "      <td>250.77</td>\n",
              "      <td>10</td>\n",
              "      <td>MORTGAGE</td>\n",
              "      <td>95088.0</td>\n",
              "      <td>1</td>\n",
              "      <td>Fully Paid</td>\n",
              "      <td>debt_consolidation</td>\n",
              "      <td>14202.267530</td>\n",
              "      <td>10550.00</td>\n",
              "      <td>0</td>\n",
              "    </tr>\n",
              "    <tr>\n",
              "      <th>38478</th>\n",
              "      <td>38479</td>\n",
              "      <td>10000</td>\n",
              "      <td>36</td>\n",
              "      <td>16.89</td>\n",
              "      <td>355.99</td>\n",
              "      <td>1</td>\n",
              "      <td>RENT</td>\n",
              "      <td>48720.0</td>\n",
              "      <td>0</td>\n",
              "      <td>Fully Paid</td>\n",
              "      <td>debt_consolidation</td>\n",
              "      <td>12815.178320</td>\n",
              "      <td>10000.00</td>\n",
              "      <td>0</td>\n",
              "    </tr>\n",
              "    <tr>\n",
              "      <th>38479</th>\n",
              "      <td>38480</td>\n",
              "      <td>3200</td>\n",
              "      <td>36</td>\n",
              "      <td>13.49</td>\n",
              "      <td>108.58</td>\n",
              "      <td>7</td>\n",
              "      <td>RENT</td>\n",
              "      <td>38400.0</td>\n",
              "      <td>1</td>\n",
              "      <td>Fully Paid</td>\n",
              "      <td>debt_consolidation</td>\n",
              "      <td>3908.767275</td>\n",
              "      <td>3200.00</td>\n",
              "      <td>0</td>\n",
              "    </tr>\n",
              "  </tbody>\n",
              "</table>\n",
              "<p>37485 rows × 14 columns</p>\n",
              "</div>"
            ],
            "text/plain": [
              "       Unnamed: 0  funded_amnt  term  int_rate  installment  emp_length  \\\n",
              "0               2            0    36      0.00         0.00           0   \n",
              "1               3         2500    36     13.98        85.42           4   \n",
              "2               4         5000    36     15.95       175.67           4   \n",
              "3               5         7000    36      9.91       225.58          10   \n",
              "4               6         2000    36      5.42        60.32          10   \n",
              "...           ...          ...   ...       ...          ...         ...   \n",
              "38475       38476         3000    36     11.99        99.63           3   \n",
              "38476       38477        10400    36     13.49       352.88           9   \n",
              "38477       38478        10550    60     14.96       250.77          10   \n",
              "38478       38479        10000    36     16.89       355.99           1   \n",
              "38479       38480         3200    36     13.49       108.58           7   \n",
              "\n",
              "      home_ownership  annual_inc  verification_status  loan_status  \\\n",
              "0               RENT         0.0                    0  Charged Off   \n",
              "1               RENT     20004.0                    0   Fully Paid   \n",
              "2               RENT     59000.0                    0  Charged Off   \n",
              "3           MORTGAGE     53796.0                    0   Fully Paid   \n",
              "4               RENT     30000.0                    0   Fully Paid   \n",
              "...              ...         ...                  ...          ...   \n",
              "38475           RENT     74250.0                    1   Fully Paid   \n",
              "38476           RENT     62000.0                    1   Fully Paid   \n",
              "38477       MORTGAGE     95088.0                    1   Fully Paid   \n",
              "38478           RENT     48720.0                    0   Fully Paid   \n",
              "38479           RENT     38400.0                    1   Fully Paid   \n",
              "\n",
              "                  purpose   total_pymnt  total_rec_prncp  repay_fail  \n",
              "0          major_purchase      0.000000             0.00           1  \n",
              "1                   other   3075.291779          2500.00           0  \n",
              "2      debt_consolidation   2948.760000          1909.02           1  \n",
              "3                   other   8082.391880          7000.00           0  \n",
              "4      debt_consolidation   2161.663244          2000.00           0  \n",
              "...                   ...           ...              ...         ...  \n",
              "38475         credit_card   3586.619764          3000.00           0  \n",
              "38476         credit_card  12703.534030         10400.00           0  \n",
              "38477  debt_consolidation  14202.267530         10550.00           0  \n",
              "38478  debt_consolidation  12815.178320         10000.00           0  \n",
              "38479  debt_consolidation   3908.767275          3200.00           0  \n",
              "\n",
              "[37485 rows x 14 columns]"
            ]
          },
          "execution_count": 22,
          "metadata": {},
          "output_type": "execute_result"
        }
      ],
      "source": [
        "df"
      ]
    },
    {
      "cell_type": "code",
      "execution_count": 34,
      "id": "1c50ec26",
      "metadata": {
        "id": "1c50ec26"
      },
      "outputs": [],
      "source": [
        "import pandas as pd\n",
        "from sklearn.tree import DecisionTreeClassifier # Import Decision Tree Classifier\n",
        "from sklearn.model_selection import train_test_split # Import train_test_split function\n",
        "from sklearn import metrics #Import scikit-learn metrics module for accuracy calculation"
      ]
    },
    {
      "cell_type": "code",
      "execution_count": 35,
      "id": "20675045",
      "metadata": {
        "id": "20675045"
      },
      "outputs": [],
      "source": [
        "from sklearn.model_selection import train_test_split\n",
        "from sklearn.compose import ColumnTransformer\n",
        "from sklearn.impute import SimpleImputer\n",
        "from sklearn.preprocessing import OneHotEncoder\n",
        "from sklearn.preprocessing import MinMaxScaler\n",
        "from sklearn.pipeline import Pipeline,make_pipeline\n",
        "from sklearn.feature_selection import SelectKBest,chi2\n",
        "from sklearn.tree import DecisionTreeClassifier\n",
        "from sklearn.metrics import r2_score"
      ]
    },
    {
      "cell_type": "code",
      "execution_count": 45,
      "id": "9b8315d0",
      "metadata": {
        "id": "9b8315d0"
      },
      "outputs": [],
      "source": [
        "X = df.drop('repay_fail',axis=1)\n",
        "y = df.repay_fail"
      ]
    },
    {
      "cell_type": "code",
      "execution_count": 46,
      "id": "0307589b",
      "metadata": {
        "id": "0307589b"
      },
      "outputs": [],
      "source": [
        "X_train,X_test,y_train,y_test = train_test_split(X,y, test_size=0.2, random_state=1)"
      ]
    },
    {
      "cell_type": "code",
      "execution_count": 47,
      "id": "f95c9391",
      "metadata": {
        "id": "f95c9391"
      },
      "outputs": [],
      "source": [
        "# Create Decision Tree classifer object\n",
        "clf = DecisionTreeClassifier()\n"
      ]
    },
    {
      "cell_type": "code",
      "execution_count": 48,
      "id": "7081a763",
      "metadata": {
        "id": "7081a763"
      },
      "outputs": [],
      "source": [
        "from sklearn.preprocessing import OneHotEncoder\n",
        "from sklearn.compose import make_column_transformer\n",
        "from sklearn.pipeline import make_pipeline\n",
        "from sklearn.metrics import r2_score"
      ]
    },
    {
      "cell_type": "code",
      "execution_count": 49,
      "id": "116ed37b",
      "metadata": {
        "colab": {
          "base_uri": "https://localhost:8080/",
          "height": 75
        },
        "id": "116ed37b",
        "outputId": "0bc2bed0-365d-449d-c552-02b0e5e4bb8c"
      },
      "outputs": [
        {
          "output_type": "execute_result",
          "data": {
            "text/plain": [
              "OneHotEncoder()"
            ],
            "text/html": [
              "<style>#sk-container-id-2 {color: black;background-color: white;}#sk-container-id-2 pre{padding: 0;}#sk-container-id-2 div.sk-toggleable {background-color: white;}#sk-container-id-2 label.sk-toggleable__label {cursor: pointer;display: block;width: 100%;margin-bottom: 0;padding: 0.3em;box-sizing: border-box;text-align: center;}#sk-container-id-2 label.sk-toggleable__label-arrow:before {content: \"▸\";float: left;margin-right: 0.25em;color: #696969;}#sk-container-id-2 label.sk-toggleable__label-arrow:hover:before {color: black;}#sk-container-id-2 div.sk-estimator:hover label.sk-toggleable__label-arrow:before {color: black;}#sk-container-id-2 div.sk-toggleable__content {max-height: 0;max-width: 0;overflow: hidden;text-align: left;background-color: #f0f8ff;}#sk-container-id-2 div.sk-toggleable__content pre {margin: 0.2em;color: black;border-radius: 0.25em;background-color: #f0f8ff;}#sk-container-id-2 input.sk-toggleable__control:checked~div.sk-toggleable__content {max-height: 200px;max-width: 100%;overflow: auto;}#sk-container-id-2 input.sk-toggleable__control:checked~label.sk-toggleable__label-arrow:before {content: \"▾\";}#sk-container-id-2 div.sk-estimator input.sk-toggleable__control:checked~label.sk-toggleable__label {background-color: #d4ebff;}#sk-container-id-2 div.sk-label input.sk-toggleable__control:checked~label.sk-toggleable__label {background-color: #d4ebff;}#sk-container-id-2 input.sk-hidden--visually {border: 0;clip: rect(1px 1px 1px 1px);clip: rect(1px, 1px, 1px, 1px);height: 1px;margin: -1px;overflow: hidden;padding: 0;position: absolute;width: 1px;}#sk-container-id-2 div.sk-estimator {font-family: monospace;background-color: #f0f8ff;border: 1px dotted black;border-radius: 0.25em;box-sizing: border-box;margin-bottom: 0.5em;}#sk-container-id-2 div.sk-estimator:hover {background-color: #d4ebff;}#sk-container-id-2 div.sk-parallel-item::after {content: \"\";width: 100%;border-bottom: 1px solid gray;flex-grow: 1;}#sk-container-id-2 div.sk-label:hover label.sk-toggleable__label {background-color: #d4ebff;}#sk-container-id-2 div.sk-serial::before {content: \"\";position: absolute;border-left: 1px solid gray;box-sizing: border-box;top: 0;bottom: 0;left: 50%;z-index: 0;}#sk-container-id-2 div.sk-serial {display: flex;flex-direction: column;align-items: center;background-color: white;padding-right: 0.2em;padding-left: 0.2em;position: relative;}#sk-container-id-2 div.sk-item {position: relative;z-index: 1;}#sk-container-id-2 div.sk-parallel {display: flex;align-items: stretch;justify-content: center;background-color: white;position: relative;}#sk-container-id-2 div.sk-item::before, #sk-container-id-2 div.sk-parallel-item::before {content: \"\";position: absolute;border-left: 1px solid gray;box-sizing: border-box;top: 0;bottom: 0;left: 50%;z-index: -1;}#sk-container-id-2 div.sk-parallel-item {display: flex;flex-direction: column;z-index: 1;position: relative;background-color: white;}#sk-container-id-2 div.sk-parallel-item:first-child::after {align-self: flex-end;width: 50%;}#sk-container-id-2 div.sk-parallel-item:last-child::after {align-self: flex-start;width: 50%;}#sk-container-id-2 div.sk-parallel-item:only-child::after {width: 0;}#sk-container-id-2 div.sk-dashed-wrapped {border: 1px dashed gray;margin: 0 0.4em 0.5em 0.4em;box-sizing: border-box;padding-bottom: 0.4em;background-color: white;}#sk-container-id-2 div.sk-label label {font-family: monospace;font-weight: bold;display: inline-block;line-height: 1.2em;}#sk-container-id-2 div.sk-label-container {text-align: center;}#sk-container-id-2 div.sk-container {/* jupyter's `normalize.less` sets `[hidden] { display: none; }` but bootstrap.min.css set `[hidden] { display: none !important; }` so we also need the `!important` here to be able to override the default hidden behavior on the sphinx rendered scikit-learn.org. See: https://github.com/scikit-learn/scikit-learn/issues/21755 */display: inline-block !important;position: relative;}#sk-container-id-2 div.sk-text-repr-fallback {display: none;}</style><div id=\"sk-container-id-2\" class=\"sk-top-container\"><div class=\"sk-text-repr-fallback\"><pre>OneHotEncoder()</pre><b>In a Jupyter environment, please rerun this cell to show the HTML representation or trust the notebook. <br />On GitHub, the HTML representation is unable to render, please try loading this page with nbviewer.org.</b></div><div class=\"sk-container\" hidden><div class=\"sk-item\"><div class=\"sk-estimator sk-toggleable\"><input class=\"sk-toggleable__control sk-hidden--visually\" id=\"sk-estimator-id-2\" type=\"checkbox\" checked><label for=\"sk-estimator-id-2\" class=\"sk-toggleable__label sk-toggleable__label-arrow\">OneHotEncoder</label><div class=\"sk-toggleable__content\"><pre>OneHotEncoder()</pre></div></div></div></div></div>"
            ]
          },
          "metadata": {},
          "execution_count": 49
        }
      ],
      "source": [
        "ohe=OneHotEncoder()\n",
        "ohe.fit(X[['home_ownership','loan_status','purpose']])"
      ]
    },
    {
      "cell_type": "code",
      "execution_count": 50,
      "id": "0c2b0953",
      "metadata": {
        "id": "0c2b0953"
      },
      "outputs": [],
      "source": [
        "column_trans = make_column_transformer((OneHotEncoder(categories=ohe.categories_),['home_ownership','loan_status','purpose']),\n",
        "                                    remainder='passthrough')"
      ]
    },
    {
      "cell_type": "code",
      "execution_count": 51,
      "id": "eb7edc3b",
      "metadata": {
        "id": "eb7edc3b"
      },
      "outputs": [],
      "source": [
        "clf = DecisionTreeClassifier()"
      ]
    },
    {
      "cell_type": "code",
      "execution_count": 52,
      "id": "0431f3b0",
      "metadata": {
        "id": "0431f3b0"
      },
      "outputs": [],
      "source": [
        "pipe=make_pipeline(column_trans,clf)"
      ]
    },
    {
      "cell_type": "code",
      "execution_count": 53,
      "id": "e988c5b1",
      "metadata": {
        "colab": {
          "base_uri": "https://localhost:8080/",
          "height": 192
        },
        "id": "e988c5b1",
        "outputId": "5d8f2bb9-7021-4703-c792-160cb9d0a821"
      },
      "outputs": [
        {
          "output_type": "execute_result",
          "data": {
            "text/plain": [
              "Pipeline(steps=[('columntransformer',\n",
              "                 ColumnTransformer(remainder='passthrough',\n",
              "                                   transformers=[('onehotencoder',\n",
              "                                                  OneHotEncoder(categories=[array(['MORTGAGE', 'OTHER', 'OWN', 'RENT'], dtype=object),\n",
              "                                                                            array(['Charged Off', 'Current', 'Fully Paid', 'Others'], dtype=object),\n",
              "                                                                            array(['car', 'credit_card', 'debt_consolidation', 'educational',\n",
              "       'home_improvement', 'house', 'major_purchase', 'medical', 'moving',\n",
              "       'other', 'renewable_energy', 'small_business', 'vacation',\n",
              "       'wedding'], dtype=object)]),\n",
              "                                                  ['home_ownership',\n",
              "                                                   'loan_status',\n",
              "                                                   'purpose'])])),\n",
              "                ('decisiontreeclassifier', DecisionTreeClassifier())])"
            ],
            "text/html": [
              "<style>#sk-container-id-3 {color: black;background-color: white;}#sk-container-id-3 pre{padding: 0;}#sk-container-id-3 div.sk-toggleable {background-color: white;}#sk-container-id-3 label.sk-toggleable__label {cursor: pointer;display: block;width: 100%;margin-bottom: 0;padding: 0.3em;box-sizing: border-box;text-align: center;}#sk-container-id-3 label.sk-toggleable__label-arrow:before {content: \"▸\";float: left;margin-right: 0.25em;color: #696969;}#sk-container-id-3 label.sk-toggleable__label-arrow:hover:before {color: black;}#sk-container-id-3 div.sk-estimator:hover label.sk-toggleable__label-arrow:before {color: black;}#sk-container-id-3 div.sk-toggleable__content {max-height: 0;max-width: 0;overflow: hidden;text-align: left;background-color: #f0f8ff;}#sk-container-id-3 div.sk-toggleable__content pre {margin: 0.2em;color: black;border-radius: 0.25em;background-color: #f0f8ff;}#sk-container-id-3 input.sk-toggleable__control:checked~div.sk-toggleable__content {max-height: 200px;max-width: 100%;overflow: auto;}#sk-container-id-3 input.sk-toggleable__control:checked~label.sk-toggleable__label-arrow:before {content: \"▾\";}#sk-container-id-3 div.sk-estimator input.sk-toggleable__control:checked~label.sk-toggleable__label {background-color: #d4ebff;}#sk-container-id-3 div.sk-label input.sk-toggleable__control:checked~label.sk-toggleable__label {background-color: #d4ebff;}#sk-container-id-3 input.sk-hidden--visually {border: 0;clip: rect(1px 1px 1px 1px);clip: rect(1px, 1px, 1px, 1px);height: 1px;margin: -1px;overflow: hidden;padding: 0;position: absolute;width: 1px;}#sk-container-id-3 div.sk-estimator {font-family: monospace;background-color: #f0f8ff;border: 1px dotted black;border-radius: 0.25em;box-sizing: border-box;margin-bottom: 0.5em;}#sk-container-id-3 div.sk-estimator:hover {background-color: #d4ebff;}#sk-container-id-3 div.sk-parallel-item::after {content: \"\";width: 100%;border-bottom: 1px solid gray;flex-grow: 1;}#sk-container-id-3 div.sk-label:hover label.sk-toggleable__label {background-color: #d4ebff;}#sk-container-id-3 div.sk-serial::before {content: \"\";position: absolute;border-left: 1px solid gray;box-sizing: border-box;top: 0;bottom: 0;left: 50%;z-index: 0;}#sk-container-id-3 div.sk-serial {display: flex;flex-direction: column;align-items: center;background-color: white;padding-right: 0.2em;padding-left: 0.2em;position: relative;}#sk-container-id-3 div.sk-item {position: relative;z-index: 1;}#sk-container-id-3 div.sk-parallel {display: flex;align-items: stretch;justify-content: center;background-color: white;position: relative;}#sk-container-id-3 div.sk-item::before, #sk-container-id-3 div.sk-parallel-item::before {content: \"\";position: absolute;border-left: 1px solid gray;box-sizing: border-box;top: 0;bottom: 0;left: 50%;z-index: -1;}#sk-container-id-3 div.sk-parallel-item {display: flex;flex-direction: column;z-index: 1;position: relative;background-color: white;}#sk-container-id-3 div.sk-parallel-item:first-child::after {align-self: flex-end;width: 50%;}#sk-container-id-3 div.sk-parallel-item:last-child::after {align-self: flex-start;width: 50%;}#sk-container-id-3 div.sk-parallel-item:only-child::after {width: 0;}#sk-container-id-3 div.sk-dashed-wrapped {border: 1px dashed gray;margin: 0 0.4em 0.5em 0.4em;box-sizing: border-box;padding-bottom: 0.4em;background-color: white;}#sk-container-id-3 div.sk-label label {font-family: monospace;font-weight: bold;display: inline-block;line-height: 1.2em;}#sk-container-id-3 div.sk-label-container {text-align: center;}#sk-container-id-3 div.sk-container {/* jupyter's `normalize.less` sets `[hidden] { display: none; }` but bootstrap.min.css set `[hidden] { display: none !important; }` so we also need the `!important` here to be able to override the default hidden behavior on the sphinx rendered scikit-learn.org. See: https://github.com/scikit-learn/scikit-learn/issues/21755 */display: inline-block !important;position: relative;}#sk-container-id-3 div.sk-text-repr-fallback {display: none;}</style><div id=\"sk-container-id-3\" class=\"sk-top-container\"><div class=\"sk-text-repr-fallback\"><pre>Pipeline(steps=[(&#x27;columntransformer&#x27;,\n",
              "                 ColumnTransformer(remainder=&#x27;passthrough&#x27;,\n",
              "                                   transformers=[(&#x27;onehotencoder&#x27;,\n",
              "                                                  OneHotEncoder(categories=[array([&#x27;MORTGAGE&#x27;, &#x27;OTHER&#x27;, &#x27;OWN&#x27;, &#x27;RENT&#x27;], dtype=object),\n",
              "                                                                            array([&#x27;Charged Off&#x27;, &#x27;Current&#x27;, &#x27;Fully Paid&#x27;, &#x27;Others&#x27;], dtype=object),\n",
              "                                                                            array([&#x27;car&#x27;, &#x27;credit_card&#x27;, &#x27;debt_consolidation&#x27;, &#x27;educational&#x27;,\n",
              "       &#x27;home_improvement&#x27;, &#x27;house&#x27;, &#x27;major_purchase&#x27;, &#x27;medical&#x27;, &#x27;moving&#x27;,\n",
              "       &#x27;other&#x27;, &#x27;renewable_energy&#x27;, &#x27;small_business&#x27;, &#x27;vacation&#x27;,\n",
              "       &#x27;wedding&#x27;], dtype=object)]),\n",
              "                                                  [&#x27;home_ownership&#x27;,\n",
              "                                                   &#x27;loan_status&#x27;,\n",
              "                                                   &#x27;purpose&#x27;])])),\n",
              "                (&#x27;decisiontreeclassifier&#x27;, DecisionTreeClassifier())])</pre><b>In a Jupyter environment, please rerun this cell to show the HTML representation or trust the notebook. <br />On GitHub, the HTML representation is unable to render, please try loading this page with nbviewer.org.</b></div><div class=\"sk-container\" hidden><div class=\"sk-item sk-dashed-wrapped\"><div class=\"sk-label-container\"><div class=\"sk-label sk-toggleable\"><input class=\"sk-toggleable__control sk-hidden--visually\" id=\"sk-estimator-id-3\" type=\"checkbox\" ><label for=\"sk-estimator-id-3\" class=\"sk-toggleable__label sk-toggleable__label-arrow\">Pipeline</label><div class=\"sk-toggleable__content\"><pre>Pipeline(steps=[(&#x27;columntransformer&#x27;,\n",
              "                 ColumnTransformer(remainder=&#x27;passthrough&#x27;,\n",
              "                                   transformers=[(&#x27;onehotencoder&#x27;,\n",
              "                                                  OneHotEncoder(categories=[array([&#x27;MORTGAGE&#x27;, &#x27;OTHER&#x27;, &#x27;OWN&#x27;, &#x27;RENT&#x27;], dtype=object),\n",
              "                                                                            array([&#x27;Charged Off&#x27;, &#x27;Current&#x27;, &#x27;Fully Paid&#x27;, &#x27;Others&#x27;], dtype=object),\n",
              "                                                                            array([&#x27;car&#x27;, &#x27;credit_card&#x27;, &#x27;debt_consolidation&#x27;, &#x27;educational&#x27;,\n",
              "       &#x27;home_improvement&#x27;, &#x27;house&#x27;, &#x27;major_purchase&#x27;, &#x27;medical&#x27;, &#x27;moving&#x27;,\n",
              "       &#x27;other&#x27;, &#x27;renewable_energy&#x27;, &#x27;small_business&#x27;, &#x27;vacation&#x27;,\n",
              "       &#x27;wedding&#x27;], dtype=object)]),\n",
              "                                                  [&#x27;home_ownership&#x27;,\n",
              "                                                   &#x27;loan_status&#x27;,\n",
              "                                                   &#x27;purpose&#x27;])])),\n",
              "                (&#x27;decisiontreeclassifier&#x27;, DecisionTreeClassifier())])</pre></div></div></div><div class=\"sk-serial\"><div class=\"sk-item sk-dashed-wrapped\"><div class=\"sk-label-container\"><div class=\"sk-label sk-toggleable\"><input class=\"sk-toggleable__control sk-hidden--visually\" id=\"sk-estimator-id-4\" type=\"checkbox\" ><label for=\"sk-estimator-id-4\" class=\"sk-toggleable__label sk-toggleable__label-arrow\">columntransformer: ColumnTransformer</label><div class=\"sk-toggleable__content\"><pre>ColumnTransformer(remainder=&#x27;passthrough&#x27;,\n",
              "                  transformers=[(&#x27;onehotencoder&#x27;,\n",
              "                                 OneHotEncoder(categories=[array([&#x27;MORTGAGE&#x27;, &#x27;OTHER&#x27;, &#x27;OWN&#x27;, &#x27;RENT&#x27;], dtype=object),\n",
              "                                                           array([&#x27;Charged Off&#x27;, &#x27;Current&#x27;, &#x27;Fully Paid&#x27;, &#x27;Others&#x27;], dtype=object),\n",
              "                                                           array([&#x27;car&#x27;, &#x27;credit_card&#x27;, &#x27;debt_consolidation&#x27;, &#x27;educational&#x27;,\n",
              "       &#x27;home_improvement&#x27;, &#x27;house&#x27;, &#x27;major_purchase&#x27;, &#x27;medical&#x27;, &#x27;moving&#x27;,\n",
              "       &#x27;other&#x27;, &#x27;renewable_energy&#x27;, &#x27;small_business&#x27;, &#x27;vacation&#x27;,\n",
              "       &#x27;wedding&#x27;], dtype=object)]),\n",
              "                                 [&#x27;home_ownership&#x27;, &#x27;loan_status&#x27;, &#x27;purpose&#x27;])])</pre></div></div></div><div class=\"sk-parallel\"><div class=\"sk-parallel-item\"><div class=\"sk-item\"><div class=\"sk-label-container\"><div class=\"sk-label sk-toggleable\"><input class=\"sk-toggleable__control sk-hidden--visually\" id=\"sk-estimator-id-5\" type=\"checkbox\" ><label for=\"sk-estimator-id-5\" class=\"sk-toggleable__label sk-toggleable__label-arrow\">onehotencoder</label><div class=\"sk-toggleable__content\"><pre>[&#x27;home_ownership&#x27;, &#x27;loan_status&#x27;, &#x27;purpose&#x27;]</pre></div></div></div><div class=\"sk-serial\"><div class=\"sk-item\"><div class=\"sk-estimator sk-toggleable\"><input class=\"sk-toggleable__control sk-hidden--visually\" id=\"sk-estimator-id-6\" type=\"checkbox\" ><label for=\"sk-estimator-id-6\" class=\"sk-toggleable__label sk-toggleable__label-arrow\">OneHotEncoder</label><div class=\"sk-toggleable__content\"><pre>OneHotEncoder(categories=[array([&#x27;MORTGAGE&#x27;, &#x27;OTHER&#x27;, &#x27;OWN&#x27;, &#x27;RENT&#x27;], dtype=object),\n",
              "                          array([&#x27;Charged Off&#x27;, &#x27;Current&#x27;, &#x27;Fully Paid&#x27;, &#x27;Others&#x27;], dtype=object),\n",
              "                          array([&#x27;car&#x27;, &#x27;credit_card&#x27;, &#x27;debt_consolidation&#x27;, &#x27;educational&#x27;,\n",
              "       &#x27;home_improvement&#x27;, &#x27;house&#x27;, &#x27;major_purchase&#x27;, &#x27;medical&#x27;, &#x27;moving&#x27;,\n",
              "       &#x27;other&#x27;, &#x27;renewable_energy&#x27;, &#x27;small_business&#x27;, &#x27;vacation&#x27;,\n",
              "       &#x27;wedding&#x27;], dtype=object)])</pre></div></div></div></div></div></div><div class=\"sk-parallel-item\"><div class=\"sk-item\"><div class=\"sk-label-container\"><div class=\"sk-label sk-toggleable\"><input class=\"sk-toggleable__control sk-hidden--visually\" id=\"sk-estimator-id-7\" type=\"checkbox\" ><label for=\"sk-estimator-id-7\" class=\"sk-toggleable__label sk-toggleable__label-arrow\">remainder</label><div class=\"sk-toggleable__content\"><pre>[&#x27;Unnamed: 0&#x27;, &#x27;funded_amnt&#x27;, &#x27;term&#x27;, &#x27;int_rate&#x27;, &#x27;installment&#x27;, &#x27;emp_length&#x27;, &#x27;annual_inc&#x27;, &#x27;verification_status&#x27;, &#x27;total_pymnt&#x27;, &#x27;total_rec_prncp&#x27;]</pre></div></div></div><div class=\"sk-serial\"><div class=\"sk-item\"><div class=\"sk-estimator sk-toggleable\"><input class=\"sk-toggleable__control sk-hidden--visually\" id=\"sk-estimator-id-8\" type=\"checkbox\" ><label for=\"sk-estimator-id-8\" class=\"sk-toggleable__label sk-toggleable__label-arrow\">passthrough</label><div class=\"sk-toggleable__content\"><pre>passthrough</pre></div></div></div></div></div></div></div></div><div class=\"sk-item\"><div class=\"sk-estimator sk-toggleable\"><input class=\"sk-toggleable__control sk-hidden--visually\" id=\"sk-estimator-id-9\" type=\"checkbox\" ><label for=\"sk-estimator-id-9\" class=\"sk-toggleable__label sk-toggleable__label-arrow\">DecisionTreeClassifier</label><div class=\"sk-toggleable__content\"><pre>DecisionTreeClassifier()</pre></div></div></div></div></div></div></div>"
            ]
          },
          "metadata": {},
          "execution_count": 53
        }
      ],
      "source": [
        "pipe.fit(X_train,y_train)"
      ]
    },
    {
      "cell_type": "code",
      "execution_count": 54,
      "id": "d6ed00cb",
      "metadata": {
        "id": "d6ed00cb"
      },
      "outputs": [],
      "source": [
        "y_pred=pipe.predict(X_train)"
      ]
    },
    {
      "cell_type": "code",
      "execution_count": 55,
      "id": "2acf7987",
      "metadata": {
        "colab": {
          "base_uri": "https://localhost:8080/"
        },
        "id": "2acf7987",
        "outputId": "84bcb19e-5c63-4974-e118-e8fae31b4d26"
      },
      "outputs": [
        {
          "output_type": "execute_result",
          "data": {
            "text/plain": [
              "1.0"
            ]
          },
          "metadata": {},
          "execution_count": 55
        }
      ],
      "source": [
        "r2_score(y_train,y_pred)"
      ]
    },
    {
      "cell_type": "code",
      "execution_count": 57,
      "id": "9828115d",
      "metadata": {
        "colab": {
          "base_uri": "https://localhost:8080/"
        },
        "id": "9828115d",
        "outputId": "9b9a6a0c-d9bc-4f85-f221-0b6524e16a25"
      },
      "outputs": [
        {
          "output_type": "stream",
          "name": "stdout",
          "text": [
            "Collecting pycaret\n",
            "  Downloading pycaret-3.0.4-py3-none-any.whl (484 kB)\n",
            "\u001b[?25l     \u001b[90m━━━━━━━━━━━━━━━━━━━━━━━━━━━━━━━━━━━━━━━━\u001b[0m \u001b[32m0.0/484.4 kB\u001b[0m \u001b[31m?\u001b[0m eta \u001b[36m-:--:--\u001b[0m\r\u001b[2K     \u001b[91m━━━━━━━━━━━━━━━━━━━━━━━━━━━━━━━━━━━━━\u001b[0m\u001b[91m╸\u001b[0m \u001b[32m481.3/484.4 kB\u001b[0m \u001b[31m15.8 MB/s\u001b[0m eta \u001b[36m0:00:01\u001b[0m\r\u001b[2K     \u001b[90m━━━━━━━━━━━━━━━━━━━━━━━━━━━━━━━━━━━━━━\u001b[0m \u001b[32m484.4/484.4 kB\u001b[0m \u001b[31m12.0 MB/s\u001b[0m eta \u001b[36m0:00:00\u001b[0m\n",
            "\u001b[?25hRequirement already satisfied: ipython>=5.5.0 in /usr/local/lib/python3.10/dist-packages (from pycaret) (7.34.0)\n",
            "Requirement already satisfied: ipywidgets>=7.6.5 in /usr/local/lib/python3.10/dist-packages (from pycaret) (7.7.1)\n",
            "Requirement already satisfied: tqdm>=4.62.0 in /usr/local/lib/python3.10/dist-packages (from pycaret) (4.66.1)\n",
            "Requirement already satisfied: numpy<1.24,>=1.21 in /usr/local/lib/python3.10/dist-packages (from pycaret) (1.23.5)\n",
            "Requirement already satisfied: pandas<2.0.0,>=1.3.0 in /usr/local/lib/python3.10/dist-packages (from pycaret) (1.5.3)\n",
            "Requirement already satisfied: jinja2>=1.2 in /usr/local/lib/python3.10/dist-packages (from pycaret) (3.1.2)\n",
            "Requirement already satisfied: scipy<2.0.0 in /usr/local/lib/python3.10/dist-packages (from pycaret) (1.10.1)\n",
            "Requirement already satisfied: joblib>=1.2.0 in /usr/local/lib/python3.10/dist-packages (from pycaret) (1.3.2)\n",
            "Requirement already satisfied: scikit-learn<1.3.0,>=1.0 in /usr/local/lib/python3.10/dist-packages (from pycaret) (1.2.2)\n",
            "Collecting pyod>=1.0.8 (from pycaret)\n",
            "  Downloading pyod-1.1.0.tar.gz (153 kB)\n",
            "\u001b[2K     \u001b[90m━━━━━━━━━━━━━━━━━━━━━━━━━━━━━━━━━━━━━━\u001b[0m \u001b[32m153.4/153.4 kB\u001b[0m \u001b[31m13.2 MB/s\u001b[0m eta \u001b[36m0:00:00\u001b[0m\n",
            "\u001b[?25h  Preparing metadata (setup.py) ... \u001b[?25l\u001b[?25hdone\n",
            "Requirement already satisfied: imbalanced-learn>=0.8.1 in /usr/local/lib/python3.10/dist-packages (from pycaret) (0.10.1)\n",
            "Collecting category-encoders>=2.4.0 (from pycaret)\n",
            "  Downloading category_encoders-2.6.2-py2.py3-none-any.whl (81 kB)\n",
            "\u001b[2K     \u001b[90m━━━━━━━━━━━━━━━━━━━━━━━━━━━━━━━━━━━━━━━━\u001b[0m \u001b[32m81.8/81.8 kB\u001b[0m \u001b[31m9.9 MB/s\u001b[0m eta \u001b[36m0:00:00\u001b[0m\n",
            "\u001b[?25hRequirement already satisfied: lightgbm>=3.0.0 in /usr/local/lib/python3.10/dist-packages (from pycaret) (4.0.0)\n",
            "Requirement already satisfied: numba>=0.55.0 in /usr/local/lib/python3.10/dist-packages (from pycaret) (0.56.4)\n",
            "Requirement already satisfied: requests>=2.27.1 in /usr/local/lib/python3.10/dist-packages (from pycaret) (2.31.0)\n",
            "Requirement already satisfied: psutil>=5.9.0 in /usr/local/lib/python3.10/dist-packages (from pycaret) (5.9.5)\n",
            "Requirement already satisfied: markupsafe>=2.0.1 in /usr/local/lib/python3.10/dist-packages (from pycaret) (2.1.3)\n",
            "Requirement already satisfied: importlib-metadata>=4.12.0 in /usr/local/lib/python3.10/dist-packages (from pycaret) (6.8.0)\n",
            "Requirement already satisfied: nbformat>=4.2.0 in /usr/local/lib/python3.10/dist-packages (from pycaret) (5.9.2)\n",
            "Requirement already satisfied: cloudpickle in /usr/local/lib/python3.10/dist-packages (from pycaret) (2.2.1)\n",
            "Collecting deprecation>=2.1.0 (from pycaret)\n",
            "  Downloading deprecation-2.1.0-py2.py3-none-any.whl (11 kB)\n",
            "Collecting xxhash (from pycaret)\n",
            "  Downloading xxhash-3.3.0-cp310-cp310-manylinux_2_17_x86_64.manylinux2014_x86_64.whl (194 kB)\n",
            "\u001b[2K     \u001b[90m━━━━━━━━━━━━━━━━━━━━━━━━━━━━━━━━━━━━━━\u001b[0m \u001b[32m194.1/194.1 kB\u001b[0m \u001b[31m20.4 MB/s\u001b[0m eta \u001b[36m0:00:00\u001b[0m\n",
            "\u001b[?25hRequirement already satisfied: matplotlib>=3.3.0 in /usr/local/lib/python3.10/dist-packages (from pycaret) (3.7.1)\n",
            "Collecting scikit-plot>=0.3.7 (from pycaret)\n",
            "  Downloading scikit_plot-0.3.7-py3-none-any.whl (33 kB)\n",
            "Requirement already satisfied: yellowbrick>=1.4 in /usr/local/lib/python3.10/dist-packages (from pycaret) (1.5)\n",
            "Requirement already satisfied: plotly>=5.0.0 in /usr/local/lib/python3.10/dist-packages (from pycaret) (5.15.0)\n",
            "Collecting kaleido>=0.2.1 (from pycaret)\n",
            "  Downloading kaleido-0.2.1-py2.py3-none-manylinux1_x86_64.whl (79.9 MB)\n",
            "\u001b[2K     \u001b[90m━━━━━━━━━━━━━━━━━━━━━━━━━━━━━━━━━━━━━━━━\u001b[0m \u001b[32m79.9/79.9 MB\u001b[0m \u001b[31m13.7 MB/s\u001b[0m eta \u001b[36m0:00:00\u001b[0m\n",
            "\u001b[?25hCollecting schemdraw==0.15 (from pycaret)\n",
            "  Downloading schemdraw-0.15-py3-none-any.whl (106 kB)\n",
            "\u001b[2K     \u001b[90m━━━━━━━━━━━━━━━━━━━━━━━━━━━━━━━━━━━━━━\u001b[0m \u001b[32m106.8/106.8 kB\u001b[0m \u001b[31m14.9 MB/s\u001b[0m eta \u001b[36m0:00:00\u001b[0m\n",
            "\u001b[?25hCollecting plotly-resampler>=0.8.3.1 (from pycaret)\n",
            "  Downloading plotly_resampler-0.9.1-py3-none-any.whl (73 kB)\n",
            "\u001b[2K     \u001b[90m━━━━━━━━━━━━━━━━━━━━━━━━━━━━━━━━━━━━━━━━\u001b[0m \u001b[32m73.4/73.4 kB\u001b[0m \u001b[31m9.6 MB/s\u001b[0m eta \u001b[36m0:00:00\u001b[0m\n",
            "\u001b[?25hRequirement already satisfied: statsmodels>=0.12.1 in /usr/local/lib/python3.10/dist-packages (from pycaret) (0.14.0)\n",
            "Collecting sktime!=0.17.1,!=0.17.2,!=0.18.0,>=0.16.1 (from pycaret)\n",
            "  Downloading sktime-0.22.0-py3-none-any.whl (17.5 MB)\n",
            "\u001b[2K     \u001b[90m━━━━━━━━━━━━━━━━━━━━━━━━━━━━━━━━━━━━━━━━\u001b[0m \u001b[32m17.5/17.5 MB\u001b[0m \u001b[31m89.3 MB/s\u001b[0m eta \u001b[36m0:00:00\u001b[0m\n",
            "\u001b[?25hCollecting tbats>=1.1.3 (from pycaret)\n",
            "  Downloading tbats-1.1.3-py3-none-any.whl (44 kB)\n",
            "\u001b[2K     \u001b[90m━━━━━━━━━━━━━━━━━━━━━━━━━━━━━━━━━━━━━━━━\u001b[0m \u001b[32m44.0/44.0 kB\u001b[0m \u001b[31m4.9 MB/s\u001b[0m eta \u001b[36m0:00:00\u001b[0m\n",
            "\u001b[?25hCollecting pmdarima!=1.8.1,<3.0.0,>=1.8.0 (from pycaret)\n",
            "  Downloading pmdarima-2.0.3-cp310-cp310-manylinux_2_17_x86_64.manylinux2014_x86_64.manylinux_2_28_x86_64.whl (1.8 MB)\n",
            "\u001b[2K     \u001b[90m━━━━━━━━━━━━━━━━━━━━━━━━━━━━━━━━━━━━━━━━\u001b[0m \u001b[32m1.8/1.8 MB\u001b[0m \u001b[31m39.2 MB/s\u001b[0m eta \u001b[36m0:00:00\u001b[0m\n",
            "\u001b[?25hCollecting wurlitzer (from pycaret)\n",
            "  Downloading wurlitzer-3.0.3-py3-none-any.whl (7.3 kB)\n",
            "Requirement already satisfied: patsy>=0.5.1 in /usr/local/lib/python3.10/dist-packages (from category-encoders>=2.4.0->pycaret) (0.5.3)\n",
            "Requirement already satisfied: packaging in /usr/local/lib/python3.10/dist-packages (from deprecation>=2.1.0->pycaret) (23.1)\n",
            "Requirement already satisfied: threadpoolctl>=2.0.0 in /usr/local/lib/python3.10/dist-packages (from imbalanced-learn>=0.8.1->pycaret) (3.2.0)\n",
            "Requirement already satisfied: zipp>=0.5 in /usr/local/lib/python3.10/dist-packages (from importlib-metadata>=4.12.0->pycaret) (3.16.2)\n",
            "Requirement already satisfied: setuptools>=18.5 in /usr/local/lib/python3.10/dist-packages (from ipython>=5.5.0->pycaret) (67.7.2)\n",
            "Collecting jedi>=0.16 (from ipython>=5.5.0->pycaret)\n",
            "  Downloading jedi-0.19.0-py2.py3-none-any.whl (1.6 MB)\n",
            "\u001b[2K     \u001b[90m━━━━━━━━━━━━━━━━━━━━━━━━━━━━━━━━━━━━━━━━\u001b[0m \u001b[32m1.6/1.6 MB\u001b[0m \u001b[31m87.3 MB/s\u001b[0m eta \u001b[36m0:00:00\u001b[0m\n",
            "\u001b[?25hRequirement already satisfied: decorator in /usr/local/lib/python3.10/dist-packages (from ipython>=5.5.0->pycaret) (4.4.2)\n",
            "Requirement already satisfied: pickleshare in /usr/local/lib/python3.10/dist-packages (from ipython>=5.5.0->pycaret) (0.7.5)\n",
            "Requirement already satisfied: traitlets>=4.2 in /usr/local/lib/python3.10/dist-packages (from ipython>=5.5.0->pycaret) (5.7.1)\n",
            "Requirement already satisfied: prompt-toolkit!=3.0.0,!=3.0.1,<3.1.0,>=2.0.0 in /usr/local/lib/python3.10/dist-packages (from ipython>=5.5.0->pycaret) (3.0.39)\n",
            "Requirement already satisfied: pygments in /usr/local/lib/python3.10/dist-packages (from ipython>=5.5.0->pycaret) (2.16.1)\n",
            "Requirement already satisfied: backcall in /usr/local/lib/python3.10/dist-packages (from ipython>=5.5.0->pycaret) (0.2.0)\n",
            "Requirement already satisfied: matplotlib-inline in /usr/local/lib/python3.10/dist-packages (from ipython>=5.5.0->pycaret) (0.1.6)\n",
            "Requirement already satisfied: pexpect>4.3 in /usr/local/lib/python3.10/dist-packages (from ipython>=5.5.0->pycaret) (4.8.0)\n",
            "Requirement already satisfied: ipykernel>=4.5.1 in /usr/local/lib/python3.10/dist-packages (from ipywidgets>=7.6.5->pycaret) (5.5.6)\n",
            "Requirement already satisfied: ipython-genutils~=0.2.0 in /usr/local/lib/python3.10/dist-packages (from ipywidgets>=7.6.5->pycaret) (0.2.0)\n",
            "Requirement already satisfied: widgetsnbextension~=3.6.0 in /usr/local/lib/python3.10/dist-packages (from ipywidgets>=7.6.5->pycaret) (3.6.5)\n",
            "Requirement already satisfied: jupyterlab-widgets>=1.0.0 in /usr/local/lib/python3.10/dist-packages (from ipywidgets>=7.6.5->pycaret) (3.0.8)\n",
            "Requirement already satisfied: contourpy>=1.0.1 in /usr/local/lib/python3.10/dist-packages (from matplotlib>=3.3.0->pycaret) (1.1.0)\n",
            "Requirement already satisfied: cycler>=0.10 in /usr/local/lib/python3.10/dist-packages (from matplotlib>=3.3.0->pycaret) (0.11.0)\n",
            "Requirement already satisfied: fonttools>=4.22.0 in /usr/local/lib/python3.10/dist-packages (from matplotlib>=3.3.0->pycaret) (4.42.1)\n",
            "Requirement already satisfied: kiwisolver>=1.0.1 in /usr/local/lib/python3.10/dist-packages (from matplotlib>=3.3.0->pycaret) (1.4.4)\n",
            "Requirement already satisfied: pillow>=6.2.0 in /usr/local/lib/python3.10/dist-packages (from matplotlib>=3.3.0->pycaret) (9.4.0)\n",
            "Requirement already satisfied: pyparsing>=2.3.1 in /usr/local/lib/python3.10/dist-packages (from matplotlib>=3.3.0->pycaret) (3.1.1)\n",
            "Requirement already satisfied: python-dateutil>=2.7 in /usr/local/lib/python3.10/dist-packages (from matplotlib>=3.3.0->pycaret) (2.8.2)\n",
            "Requirement already satisfied: fastjsonschema in /usr/local/lib/python3.10/dist-packages (from nbformat>=4.2.0->pycaret) (2.18.0)\n",
            "Requirement already satisfied: jsonschema>=2.6 in /usr/local/lib/python3.10/dist-packages (from nbformat>=4.2.0->pycaret) (4.19.0)\n",
            "Requirement already satisfied: jupyter-core in /usr/local/lib/python3.10/dist-packages (from nbformat>=4.2.0->pycaret) (5.3.1)\n",
            "Requirement already satisfied: llvmlite<0.40,>=0.39.0dev0 in /usr/local/lib/python3.10/dist-packages (from numba>=0.55.0->pycaret) (0.39.1)\n",
            "Requirement already satisfied: pytz>=2020.1 in /usr/local/lib/python3.10/dist-packages (from pandas<2.0.0,>=1.3.0->pycaret) (2023.3)\n",
            "Requirement already satisfied: tenacity>=6.2.0 in /usr/local/lib/python3.10/dist-packages (from plotly>=5.0.0->pycaret) (8.2.3)\n",
            "Collecting dash<3.0.0,>=2.11.0 (from plotly-resampler>=0.8.3.1->pycaret)\n",
            "  Downloading dash-2.13.0-py3-none-any.whl (10.4 MB)\n",
            "\u001b[2K     \u001b[90m━━━━━━━━━━━━━━━━━━━━━━━━━━━━━━━━━━━━━━━\u001b[0m \u001b[32m10.4/10.4 MB\u001b[0m \u001b[31m129.3 MB/s\u001b[0m eta \u001b[36m0:00:00\u001b[0m\n",
            "\u001b[?25hCollecting orjson<4.0.0,>=3.8.0 (from plotly-resampler>=0.8.3.1->pycaret)\n",
            "  Downloading orjson-3.9.5-cp310-cp310-manylinux_2_17_x86_64.manylinux2014_x86_64.whl (139 kB)\n",
            "\u001b[2K     \u001b[90m━━━━━━━━━━━━━━━━━━━━━━━━━━━━━━━━━━━━━━\u001b[0m \u001b[32m139.9/139.9 kB\u001b[0m \u001b[31m17.4 MB/s\u001b[0m eta \u001b[36m0:00:00\u001b[0m\n",
            "\u001b[?25hCollecting trace-updater>=0.0.8 (from plotly-resampler>=0.8.3.1->pycaret)\n",
            "  Downloading trace_updater-0.0.9.1-py3-none-any.whl (185 kB)\n",
            "\u001b[2K     \u001b[90m━━━━━━━━━━━━━━━━━━━━━━━━━━━━━━━━━━━━━━\u001b[0m \u001b[32m185.2/185.2 kB\u001b[0m \u001b[31m18.4 MB/s\u001b[0m eta \u001b[36m0:00:00\u001b[0m\n",
            "\u001b[?25hCollecting tsdownsample==0.1.2 (from plotly-resampler>=0.8.3.1->pycaret)\n",
            "  Downloading tsdownsample-0.1.2-cp310-cp310-manylinux_2_17_x86_64.manylinux2014_x86_64.whl (2.3 MB)\n",
            "\u001b[2K     \u001b[90m━━━━━━━━━━━━━━━━━━━━━━━━━━━━━━━━━━━━━━━━\u001b[0m \u001b[32m2.3/2.3 MB\u001b[0m \u001b[31m103.8 MB/s\u001b[0m eta \u001b[36m0:00:00\u001b[0m\n",
            "\u001b[?25hRequirement already satisfied: Cython!=0.29.18,!=0.29.31,>=0.29 in /usr/local/lib/python3.10/dist-packages (from pmdarima!=1.8.1,<3.0.0,>=1.8.0->pycaret) (0.29.36)\n",
            "Requirement already satisfied: urllib3 in /usr/local/lib/python3.10/dist-packages (from pmdarima!=1.8.1,<3.0.0,>=1.8.0->pycaret) (2.0.4)\n",
            "Requirement already satisfied: six in /usr/local/lib/python3.10/dist-packages (from pyod>=1.0.8->pycaret) (1.16.0)\n",
            "Requirement already satisfied: charset-normalizer<4,>=2 in /usr/local/lib/python3.10/dist-packages (from requests>=2.27.1->pycaret) (3.2.0)\n",
            "Requirement already satisfied: idna<4,>=2.5 in /usr/local/lib/python3.10/dist-packages (from requests>=2.27.1->pycaret) (3.4)\n",
            "Requirement already satisfied: certifi>=2017.4.17 in /usr/local/lib/python3.10/dist-packages (from requests>=2.27.1->pycaret) (2023.7.22)\n",
            "Collecting scikit-base<0.6.0 (from sktime!=0.17.1,!=0.17.2,!=0.18.0,>=0.16.1->pycaret)\n",
            "  Downloading scikit_base-0.5.1-py3-none-any.whl (118 kB)\n",
            "\u001b[2K     \u001b[90m━━━━━━━━━━━━━━━━━━━━━━━━━━━━━━━━━━━━━━\u001b[0m \u001b[32m118.7/118.7 kB\u001b[0m \u001b[31m16.5 MB/s\u001b[0m eta \u001b[36m0:00:00\u001b[0m\n",
            "\u001b[?25hRequirement already satisfied: Flask<2.3.0,>=1.0.4 in /usr/local/lib/python3.10/dist-packages (from dash<3.0.0,>=2.11.0->plotly-resampler>=0.8.3.1->pycaret) (2.2.5)\n",
            "Collecting Werkzeug<2.3.0 (from dash<3.0.0,>=2.11.0->plotly-resampler>=0.8.3.1->pycaret)\n",
            "  Downloading Werkzeug-2.2.3-py3-none-any.whl (233 kB)\n",
            "\u001b[2K     \u001b[90m━━━━━━━━━━━━━━━━━━━━━━━━━━━━━━━━━━━━━━\u001b[0m \u001b[32m233.6/233.6 kB\u001b[0m \u001b[31m28.5 MB/s\u001b[0m eta \u001b[36m0:00:00\u001b[0m\n",
            "\u001b[?25hCollecting dash-html-components==2.0.0 (from dash<3.0.0,>=2.11.0->plotly-resampler>=0.8.3.1->pycaret)\n",
            "  Downloading dash_html_components-2.0.0-py3-none-any.whl (4.1 kB)\n",
            "Collecting dash-core-components==2.0.0 (from dash<3.0.0,>=2.11.0->plotly-resampler>=0.8.3.1->pycaret)\n",
            "  Downloading dash_core_components-2.0.0-py3-none-any.whl (3.8 kB)\n",
            "Collecting dash-table==5.0.0 (from dash<3.0.0,>=2.11.0->plotly-resampler>=0.8.3.1->pycaret)\n",
            "  Downloading dash_table-5.0.0-py3-none-any.whl (3.9 kB)\n",
            "Requirement already satisfied: typing-extensions>=4.1.1 in /usr/local/lib/python3.10/dist-packages (from dash<3.0.0,>=2.11.0->plotly-resampler>=0.8.3.1->pycaret) (4.7.1)\n",
            "Collecting retrying (from dash<3.0.0,>=2.11.0->plotly-resampler>=0.8.3.1->pycaret)\n",
            "  Downloading retrying-1.3.4-py3-none-any.whl (11 kB)\n",
            "Collecting ansi2html (from dash<3.0.0,>=2.11.0->plotly-resampler>=0.8.3.1->pycaret)\n",
            "  Downloading ansi2html-1.8.0-py3-none-any.whl (16 kB)\n",
            "Requirement already satisfied: nest-asyncio in /usr/local/lib/python3.10/dist-packages (from dash<3.0.0,>=2.11.0->plotly-resampler>=0.8.3.1->pycaret) (1.5.7)\n",
            "Requirement already satisfied: jupyter-client in /usr/local/lib/python3.10/dist-packages (from ipykernel>=4.5.1->ipywidgets>=7.6.5->pycaret) (6.1.12)\n",
            "Requirement already satisfied: tornado>=4.2 in /usr/local/lib/python3.10/dist-packages (from ipykernel>=4.5.1->ipywidgets>=7.6.5->pycaret) (6.3.2)\n",
            "Requirement already satisfied: parso<0.9.0,>=0.8.3 in /usr/local/lib/python3.10/dist-packages (from jedi>=0.16->ipython>=5.5.0->pycaret) (0.8.3)\n",
            "Requirement already satisfied: attrs>=22.2.0 in /usr/local/lib/python3.10/dist-packages (from jsonschema>=2.6->nbformat>=4.2.0->pycaret) (23.1.0)\n",
            "Requirement already satisfied: jsonschema-specifications>=2023.03.6 in /usr/local/lib/python3.10/dist-packages (from jsonschema>=2.6->nbformat>=4.2.0->pycaret) (2023.7.1)\n",
            "Requirement already satisfied: referencing>=0.28.4 in /usr/local/lib/python3.10/dist-packages (from jsonschema>=2.6->nbformat>=4.2.0->pycaret) (0.30.2)\n",
            "Requirement already satisfied: rpds-py>=0.7.1 in /usr/local/lib/python3.10/dist-packages (from jsonschema>=2.6->nbformat>=4.2.0->pycaret) (0.9.2)\n",
            "Requirement already satisfied: ptyprocess>=0.5 in /usr/local/lib/python3.10/dist-packages (from pexpect>4.3->ipython>=5.5.0->pycaret) (0.7.0)\n",
            "Requirement already satisfied: wcwidth in /usr/local/lib/python3.10/dist-packages (from prompt-toolkit!=3.0.0,!=3.0.1,<3.1.0,>=2.0.0->ipython>=5.5.0->pycaret) (0.2.6)\n",
            "Requirement already satisfied: notebook>=4.4.1 in /usr/local/lib/python3.10/dist-packages (from widgetsnbextension~=3.6.0->ipywidgets>=7.6.5->pycaret) (6.5.5)\n",
            "Requirement already satisfied: platformdirs>=2.5 in /usr/local/lib/python3.10/dist-packages (from jupyter-core->nbformat>=4.2.0->pycaret) (3.10.0)\n",
            "Requirement already satisfied: itsdangerous>=2.0 in /usr/local/lib/python3.10/dist-packages (from Flask<2.3.0,>=1.0.4->dash<3.0.0,>=2.11.0->plotly-resampler>=0.8.3.1->pycaret) (2.1.2)\n",
            "Requirement already satisfied: click>=8.0 in /usr/local/lib/python3.10/dist-packages (from Flask<2.3.0,>=1.0.4->dash<3.0.0,>=2.11.0->plotly-resampler>=0.8.3.1->pycaret) (8.1.7)\n",
            "Requirement already satisfied: pyzmq<25,>=17 in /usr/local/lib/python3.10/dist-packages (from notebook>=4.4.1->widgetsnbextension~=3.6.0->ipywidgets>=7.6.5->pycaret) (23.2.1)\n",
            "Requirement already satisfied: argon2-cffi in /usr/local/lib/python3.10/dist-packages (from notebook>=4.4.1->widgetsnbextension~=3.6.0->ipywidgets>=7.6.5->pycaret) (23.1.0)\n",
            "Requirement already satisfied: nbconvert>=5 in /usr/local/lib/python3.10/dist-packages (from notebook>=4.4.1->widgetsnbextension~=3.6.0->ipywidgets>=7.6.5->pycaret) (6.5.4)\n",
            "Requirement already satisfied: Send2Trash>=1.8.0 in /usr/local/lib/python3.10/dist-packages (from notebook>=4.4.1->widgetsnbextension~=3.6.0->ipywidgets>=7.6.5->pycaret) (1.8.2)\n",
            "Requirement already satisfied: terminado>=0.8.3 in /usr/local/lib/python3.10/dist-packages (from notebook>=4.4.1->widgetsnbextension~=3.6.0->ipywidgets>=7.6.5->pycaret) (0.17.1)\n",
            "Requirement already satisfied: prometheus-client in /usr/local/lib/python3.10/dist-packages (from notebook>=4.4.1->widgetsnbextension~=3.6.0->ipywidgets>=7.6.5->pycaret) (0.17.1)\n",
            "Requirement already satisfied: nbclassic>=0.4.7 in /usr/local/lib/python3.10/dist-packages (from notebook>=4.4.1->widgetsnbextension~=3.6.0->ipywidgets>=7.6.5->pycaret) (1.0.0)\n",
            "Requirement already satisfied: jupyter-server>=1.8 in /usr/local/lib/python3.10/dist-packages (from nbclassic>=0.4.7->notebook>=4.4.1->widgetsnbextension~=3.6.0->ipywidgets>=7.6.5->pycaret) (1.24.0)\n",
            "Requirement already satisfied: notebook-shim>=0.2.3 in /usr/local/lib/python3.10/dist-packages (from nbclassic>=0.4.7->notebook>=4.4.1->widgetsnbextension~=3.6.0->ipywidgets>=7.6.5->pycaret) (0.2.3)\n",
            "Requirement already satisfied: lxml in /usr/local/lib/python3.10/dist-packages (from nbconvert>=5->notebook>=4.4.1->widgetsnbextension~=3.6.0->ipywidgets>=7.6.5->pycaret) (4.9.3)\n",
            "Requirement already satisfied: beautifulsoup4 in /usr/local/lib/python3.10/dist-packages (from nbconvert>=5->notebook>=4.4.1->widgetsnbextension~=3.6.0->ipywidgets>=7.6.5->pycaret) (4.11.2)\n",
            "Requirement already satisfied: bleach in /usr/local/lib/python3.10/dist-packages (from nbconvert>=5->notebook>=4.4.1->widgetsnbextension~=3.6.0->ipywidgets>=7.6.5->pycaret) (6.0.0)\n",
            "Requirement already satisfied: defusedxml in /usr/local/lib/python3.10/dist-packages (from nbconvert>=5->notebook>=4.4.1->widgetsnbextension~=3.6.0->ipywidgets>=7.6.5->pycaret) (0.7.1)\n",
            "Requirement already satisfied: entrypoints>=0.2.2 in /usr/local/lib/python3.10/dist-packages (from nbconvert>=5->notebook>=4.4.1->widgetsnbextension~=3.6.0->ipywidgets>=7.6.5->pycaret) (0.4)\n",
            "Requirement already satisfied: jupyterlab-pygments in /usr/local/lib/python3.10/dist-packages (from nbconvert>=5->notebook>=4.4.1->widgetsnbextension~=3.6.0->ipywidgets>=7.6.5->pycaret) (0.2.2)\n",
            "Requirement already satisfied: mistune<2,>=0.8.1 in /usr/local/lib/python3.10/dist-packages (from nbconvert>=5->notebook>=4.4.1->widgetsnbextension~=3.6.0->ipywidgets>=7.6.5->pycaret) (0.8.4)\n",
            "Requirement already satisfied: nbclient>=0.5.0 in /usr/local/lib/python3.10/dist-packages (from nbconvert>=5->notebook>=4.4.1->widgetsnbextension~=3.6.0->ipywidgets>=7.6.5->pycaret) (0.8.0)\n",
            "Requirement already satisfied: pandocfilters>=1.4.1 in /usr/local/lib/python3.10/dist-packages (from nbconvert>=5->notebook>=4.4.1->widgetsnbextension~=3.6.0->ipywidgets>=7.6.5->pycaret) (1.5.0)\n",
            "Requirement already satisfied: tinycss2 in /usr/local/lib/python3.10/dist-packages (from nbconvert>=5->notebook>=4.4.1->widgetsnbextension~=3.6.0->ipywidgets>=7.6.5->pycaret) (1.2.1)\n",
            "Requirement already satisfied: argon2-cffi-bindings in /usr/local/lib/python3.10/dist-packages (from argon2-cffi->notebook>=4.4.1->widgetsnbextension~=3.6.0->ipywidgets>=7.6.5->pycaret) (21.2.0)\n",
            "Requirement already satisfied: anyio<4,>=3.1.0 in /usr/local/lib/python3.10/dist-packages (from jupyter-server>=1.8->nbclassic>=0.4.7->notebook>=4.4.1->widgetsnbextension~=3.6.0->ipywidgets>=7.6.5->pycaret) (3.7.1)\n",
            "Requirement already satisfied: websocket-client in /usr/local/lib/python3.10/dist-packages (from jupyter-server>=1.8->nbclassic>=0.4.7->notebook>=4.4.1->widgetsnbextension~=3.6.0->ipywidgets>=7.6.5->pycaret) (1.6.2)\n",
            "Requirement already satisfied: cffi>=1.0.1 in /usr/local/lib/python3.10/dist-packages (from argon2-cffi-bindings->argon2-cffi->notebook>=4.4.1->widgetsnbextension~=3.6.0->ipywidgets>=7.6.5->pycaret) (1.15.1)\n",
            "Requirement already satisfied: soupsieve>1.2 in /usr/local/lib/python3.10/dist-packages (from beautifulsoup4->nbconvert>=5->notebook>=4.4.1->widgetsnbextension~=3.6.0->ipywidgets>=7.6.5->pycaret) (2.4.1)\n",
            "Requirement already satisfied: webencodings in /usr/local/lib/python3.10/dist-packages (from bleach->nbconvert>=5->notebook>=4.4.1->widgetsnbextension~=3.6.0->ipywidgets>=7.6.5->pycaret) (0.5.1)\n",
            "Requirement already satisfied: sniffio>=1.1 in /usr/local/lib/python3.10/dist-packages (from anyio<4,>=3.1.0->jupyter-server>=1.8->nbclassic>=0.4.7->notebook>=4.4.1->widgetsnbextension~=3.6.0->ipywidgets>=7.6.5->pycaret) (1.3.0)\n",
            "Requirement already satisfied: exceptiongroup in /usr/local/lib/python3.10/dist-packages (from anyio<4,>=3.1.0->jupyter-server>=1.8->nbclassic>=0.4.7->notebook>=4.4.1->widgetsnbextension~=3.6.0->ipywidgets>=7.6.5->pycaret) (1.1.3)\n",
            "Requirement already satisfied: pycparser in /usr/local/lib/python3.10/dist-packages (from cffi>=1.0.1->argon2-cffi-bindings->argon2-cffi->notebook>=4.4.1->widgetsnbextension~=3.6.0->ipywidgets>=7.6.5->pycaret) (2.21)\n",
            "Building wheels for collected packages: pyod\n",
            "  Building wheel for pyod (setup.py) ... \u001b[?25l\u001b[?25hdone\n",
            "  Created wheel for pyod: filename=pyod-1.1.0-py3-none-any.whl size=185329 sha256=0e96f58aedbf7bae1d71dd149272c593812915f7f19d568eb790a32396dcb406\n",
            "  Stored in directory: /root/.cache/pip/wheels/36/8e/e2/e932956b10b843eb6be9eefa70b5c1bee7b561be14c423b136\n",
            "Successfully built pyod\n",
            "Installing collected packages: trace-updater, kaleido, dash-table, dash-html-components, dash-core-components, xxhash, wurlitzer, Werkzeug, tsdownsample, scikit-base, schemdraw, retrying, orjson, jedi, deprecation, ansi2html, sktime, scikit-plot, pyod, dash, pmdarima, plotly-resampler, category-encoders, tbats, pycaret\n",
            "  Attempting uninstall: Werkzeug\n",
            "    Found existing installation: Werkzeug 2.3.7\n",
            "    Uninstalling Werkzeug-2.3.7:\n",
            "      Successfully uninstalled Werkzeug-2.3.7\n",
            "Successfully installed Werkzeug-2.2.3 ansi2html-1.8.0 category-encoders-2.6.2 dash-2.13.0 dash-core-components-2.0.0 dash-html-components-2.0.0 dash-table-5.0.0 deprecation-2.1.0 jedi-0.19.0 kaleido-0.2.1 orjson-3.9.5 plotly-resampler-0.9.1 pmdarima-2.0.3 pycaret-3.0.4 pyod-1.1.0 retrying-1.3.4 schemdraw-0.15 scikit-base-0.5.1 scikit-plot-0.3.7 sktime-0.22.0 tbats-1.1.3 trace-updater-0.0.9.1 tsdownsample-0.1.2 wurlitzer-3.0.3 xxhash-3.3.0\n"
          ]
        }
      ],
      "source": [
        "pip install pycaret"
      ]
    },
    {
      "cell_type": "code",
      "source": [
        "from pycaret.classification import setup\n",
        "from pycaret.classification import compare_models"
      ],
      "metadata": {
        "id": "_27U9JVqwnrz"
      },
      "id": "_27U9JVqwnrz",
      "execution_count": 58,
      "outputs": []
    },
    {
      "cell_type": "code",
      "source": [
        "grid = setup(data=df, target=df.columns[-1])"
      ],
      "metadata": {
        "colab": {
          "base_uri": "https://localhost:8080/",
          "height": 739
        },
        "id": "ib-ekpKHw1Jb",
        "outputId": "22ab30a8-c226-42e4-a22e-08a0221553a0"
      },
      "id": "ib-ekpKHw1Jb",
      "execution_count": 59,
      "outputs": [
        {
          "output_type": "display_data",
          "data": {
            "text/plain": [
              "<pandas.io.formats.style.Styler at 0x7821522f28f0>"
            ],
            "text/html": [
              "<style type=\"text/css\">\n",
              "#T_49371_row9_col1 {\n",
              "  background-color: lightgreen;\n",
              "}\n",
              "</style>\n",
              "<table id=\"T_49371\" class=\"dataframe\">\n",
              "  <thead>\n",
              "    <tr>\n",
              "      <th class=\"blank level0\" >&nbsp;</th>\n",
              "      <th id=\"T_49371_level0_col0\" class=\"col_heading level0 col0\" >Description</th>\n",
              "      <th id=\"T_49371_level0_col1\" class=\"col_heading level0 col1\" >Value</th>\n",
              "    </tr>\n",
              "  </thead>\n",
              "  <tbody>\n",
              "    <tr>\n",
              "      <th id=\"T_49371_level0_row0\" class=\"row_heading level0 row0\" >0</th>\n",
              "      <td id=\"T_49371_row0_col0\" class=\"data row0 col0\" >Session id</td>\n",
              "      <td id=\"T_49371_row0_col1\" class=\"data row0 col1\" >432</td>\n",
              "    </tr>\n",
              "    <tr>\n",
              "      <th id=\"T_49371_level0_row1\" class=\"row_heading level0 row1\" >1</th>\n",
              "      <td id=\"T_49371_row1_col0\" class=\"data row1 col0\" >Target</td>\n",
              "      <td id=\"T_49371_row1_col1\" class=\"data row1 col1\" >repay_fail</td>\n",
              "    </tr>\n",
              "    <tr>\n",
              "      <th id=\"T_49371_level0_row2\" class=\"row_heading level0 row2\" >2</th>\n",
              "      <td id=\"T_49371_row2_col0\" class=\"data row2 col0\" >Target type</td>\n",
              "      <td id=\"T_49371_row2_col1\" class=\"data row2 col1\" >Binary</td>\n",
              "    </tr>\n",
              "    <tr>\n",
              "      <th id=\"T_49371_level0_row3\" class=\"row_heading level0 row3\" >3</th>\n",
              "      <td id=\"T_49371_row3_col0\" class=\"data row3 col0\" >Original data shape</td>\n",
              "      <td id=\"T_49371_row3_col1\" class=\"data row3 col1\" >(37485, 14)</td>\n",
              "    </tr>\n",
              "    <tr>\n",
              "      <th id=\"T_49371_level0_row4\" class=\"row_heading level0 row4\" >4</th>\n",
              "      <td id=\"T_49371_row4_col0\" class=\"data row4 col0\" >Transformed data shape</td>\n",
              "      <td id=\"T_49371_row4_col1\" class=\"data row4 col1\" >(37485, 33)</td>\n",
              "    </tr>\n",
              "    <tr>\n",
              "      <th id=\"T_49371_level0_row5\" class=\"row_heading level0 row5\" >5</th>\n",
              "      <td id=\"T_49371_row5_col0\" class=\"data row5 col0\" >Transformed train set shape</td>\n",
              "      <td id=\"T_49371_row5_col1\" class=\"data row5 col1\" >(26239, 33)</td>\n",
              "    </tr>\n",
              "    <tr>\n",
              "      <th id=\"T_49371_level0_row6\" class=\"row_heading level0 row6\" >6</th>\n",
              "      <td id=\"T_49371_row6_col0\" class=\"data row6 col0\" >Transformed test set shape</td>\n",
              "      <td id=\"T_49371_row6_col1\" class=\"data row6 col1\" >(11246, 33)</td>\n",
              "    </tr>\n",
              "    <tr>\n",
              "      <th id=\"T_49371_level0_row7\" class=\"row_heading level0 row7\" >7</th>\n",
              "      <td id=\"T_49371_row7_col0\" class=\"data row7 col0\" >Numeric features</td>\n",
              "      <td id=\"T_49371_row7_col1\" class=\"data row7 col1\" >10</td>\n",
              "    </tr>\n",
              "    <tr>\n",
              "      <th id=\"T_49371_level0_row8\" class=\"row_heading level0 row8\" >8</th>\n",
              "      <td id=\"T_49371_row8_col0\" class=\"data row8 col0\" >Categorical features</td>\n",
              "      <td id=\"T_49371_row8_col1\" class=\"data row8 col1\" >3</td>\n",
              "    </tr>\n",
              "    <tr>\n",
              "      <th id=\"T_49371_level0_row9\" class=\"row_heading level0 row9\" >9</th>\n",
              "      <td id=\"T_49371_row9_col0\" class=\"data row9 col0\" >Preprocess</td>\n",
              "      <td id=\"T_49371_row9_col1\" class=\"data row9 col1\" >True</td>\n",
              "    </tr>\n",
              "    <tr>\n",
              "      <th id=\"T_49371_level0_row10\" class=\"row_heading level0 row10\" >10</th>\n",
              "      <td id=\"T_49371_row10_col0\" class=\"data row10 col0\" >Imputation type</td>\n",
              "      <td id=\"T_49371_row10_col1\" class=\"data row10 col1\" >simple</td>\n",
              "    </tr>\n",
              "    <tr>\n",
              "      <th id=\"T_49371_level0_row11\" class=\"row_heading level0 row11\" >11</th>\n",
              "      <td id=\"T_49371_row11_col0\" class=\"data row11 col0\" >Numeric imputation</td>\n",
              "      <td id=\"T_49371_row11_col1\" class=\"data row11 col1\" >mean</td>\n",
              "    </tr>\n",
              "    <tr>\n",
              "      <th id=\"T_49371_level0_row12\" class=\"row_heading level0 row12\" >12</th>\n",
              "      <td id=\"T_49371_row12_col0\" class=\"data row12 col0\" >Categorical imputation</td>\n",
              "      <td id=\"T_49371_row12_col1\" class=\"data row12 col1\" >mode</td>\n",
              "    </tr>\n",
              "    <tr>\n",
              "      <th id=\"T_49371_level0_row13\" class=\"row_heading level0 row13\" >13</th>\n",
              "      <td id=\"T_49371_row13_col0\" class=\"data row13 col0\" >Maximum one-hot encoding</td>\n",
              "      <td id=\"T_49371_row13_col1\" class=\"data row13 col1\" >25</td>\n",
              "    </tr>\n",
              "    <tr>\n",
              "      <th id=\"T_49371_level0_row14\" class=\"row_heading level0 row14\" >14</th>\n",
              "      <td id=\"T_49371_row14_col0\" class=\"data row14 col0\" >Encoding method</td>\n",
              "      <td id=\"T_49371_row14_col1\" class=\"data row14 col1\" >None</td>\n",
              "    </tr>\n",
              "    <tr>\n",
              "      <th id=\"T_49371_level0_row15\" class=\"row_heading level0 row15\" >15</th>\n",
              "      <td id=\"T_49371_row15_col0\" class=\"data row15 col0\" >Fold Generator</td>\n",
              "      <td id=\"T_49371_row15_col1\" class=\"data row15 col1\" >StratifiedKFold</td>\n",
              "    </tr>\n",
              "    <tr>\n",
              "      <th id=\"T_49371_level0_row16\" class=\"row_heading level0 row16\" >16</th>\n",
              "      <td id=\"T_49371_row16_col0\" class=\"data row16 col0\" >Fold Number</td>\n",
              "      <td id=\"T_49371_row16_col1\" class=\"data row16 col1\" >10</td>\n",
              "    </tr>\n",
              "    <tr>\n",
              "      <th id=\"T_49371_level0_row17\" class=\"row_heading level0 row17\" >17</th>\n",
              "      <td id=\"T_49371_row17_col0\" class=\"data row17 col0\" >CPU Jobs</td>\n",
              "      <td id=\"T_49371_row17_col1\" class=\"data row17 col1\" >-1</td>\n",
              "    </tr>\n",
              "    <tr>\n",
              "      <th id=\"T_49371_level0_row18\" class=\"row_heading level0 row18\" >18</th>\n",
              "      <td id=\"T_49371_row18_col0\" class=\"data row18 col0\" >Use GPU</td>\n",
              "      <td id=\"T_49371_row18_col1\" class=\"data row18 col1\" >False</td>\n",
              "    </tr>\n",
              "    <tr>\n",
              "      <th id=\"T_49371_level0_row19\" class=\"row_heading level0 row19\" >19</th>\n",
              "      <td id=\"T_49371_row19_col0\" class=\"data row19 col0\" >Log Experiment</td>\n",
              "      <td id=\"T_49371_row19_col1\" class=\"data row19 col1\" >False</td>\n",
              "    </tr>\n",
              "    <tr>\n",
              "      <th id=\"T_49371_level0_row20\" class=\"row_heading level0 row20\" >20</th>\n",
              "      <td id=\"T_49371_row20_col0\" class=\"data row20 col0\" >Experiment Name</td>\n",
              "      <td id=\"T_49371_row20_col1\" class=\"data row20 col1\" >clf-default-name</td>\n",
              "    </tr>\n",
              "    <tr>\n",
              "      <th id=\"T_49371_level0_row21\" class=\"row_heading level0 row21\" >21</th>\n",
              "      <td id=\"T_49371_row21_col0\" class=\"data row21 col0\" >USI</td>\n",
              "      <td id=\"T_49371_row21_col1\" class=\"data row21 col1\" >bd0e</td>\n",
              "    </tr>\n",
              "  </tbody>\n",
              "</table>\n"
            ]
          },
          "metadata": {}
        }
      ]
    },
    {
      "cell_type": "code",
      "source": [
        "best = compare_models()"
      ],
      "metadata": {
        "colab": {
          "base_uri": "https://localhost:8080/",
          "height": 520,
          "referenced_widgets": [
            "07ac58ff795d458bbfe5631041d208a6",
            "1b752c54b35b4946bb77332c3e826f76",
            "8a6f901bff904bcf9506949f88b02876",
            "004fa9b089bd43c19490636b96604838",
            "e365bbcca1234949901f07f24abf0dc0",
            "22961857a3484d73aae5d2ea58e9c9cc",
            "c3c895754f534a768b6cc524a58cb7f2",
            "3865a98f9cc24d76b90bf82a2cf0aac1",
            "7bdcbb532d184ea9b145c5ffd98d0a4f",
            "88fd8e5bde204cc1993c91700639c052",
            "d9437f27f77e41f38962e8fca7fd3448"
          ]
        },
        "id": "vkwTuGfNxH6r",
        "outputId": "3f7fb88f-6612-4ef9-ad19-a00c6dff75fe"
      },
      "id": "vkwTuGfNxH6r",
      "execution_count": 60,
      "outputs": [
        {
          "output_type": "display_data",
          "data": {
            "text/plain": [
              "<IPython.core.display.HTML object>"
            ],
            "text/html": []
          },
          "metadata": {}
        },
        {
          "output_type": "display_data",
          "data": {
            "text/plain": [
              "<pandas.io.formats.style.Styler at 0x78213e53ff70>"
            ],
            "text/html": [
              "<style type=\"text/css\">\n",
              "#T_e27bf th {\n",
              "  text-align: left;\n",
              "}\n",
              "#T_e27bf_row0_col0, #T_e27bf_row0_col3, #T_e27bf_row0_col4, #T_e27bf_row1_col0, #T_e27bf_row1_col3, #T_e27bf_row2_col0, #T_e27bf_row2_col1, #T_e27bf_row2_col2, #T_e27bf_row2_col3, #T_e27bf_row2_col5, #T_e27bf_row2_col6, #T_e27bf_row2_col7, #T_e27bf_row3_col0, #T_e27bf_row3_col1, #T_e27bf_row3_col2, #T_e27bf_row3_col4, #T_e27bf_row3_col5, #T_e27bf_row3_col6, #T_e27bf_row3_col7, #T_e27bf_row4_col0, #T_e27bf_row4_col1, #T_e27bf_row4_col2, #T_e27bf_row4_col4, #T_e27bf_row4_col5, #T_e27bf_row4_col6, #T_e27bf_row4_col7, #T_e27bf_row5_col0, #T_e27bf_row5_col1, #T_e27bf_row5_col3, #T_e27bf_row5_col4, #T_e27bf_row5_col5, #T_e27bf_row5_col6, #T_e27bf_row5_col7, #T_e27bf_row6_col0, #T_e27bf_row6_col1, #T_e27bf_row6_col2, #T_e27bf_row6_col4, #T_e27bf_row6_col5, #T_e27bf_row6_col6, #T_e27bf_row6_col7, #T_e27bf_row7_col0, #T_e27bf_row7_col1, #T_e27bf_row7_col3, #T_e27bf_row7_col4, #T_e27bf_row7_col5, #T_e27bf_row7_col6, #T_e27bf_row7_col7, #T_e27bf_row8_col0, #T_e27bf_row8_col1, #T_e27bf_row8_col3, #T_e27bf_row8_col4, #T_e27bf_row8_col5, #T_e27bf_row8_col6, #T_e27bf_row8_col7, #T_e27bf_row9_col0, #T_e27bf_row9_col1, #T_e27bf_row9_col3, #T_e27bf_row9_col5, #T_e27bf_row9_col6, #T_e27bf_row9_col7, #T_e27bf_row10_col0, #T_e27bf_row10_col1, #T_e27bf_row10_col2, #T_e27bf_row10_col3, #T_e27bf_row10_col4, #T_e27bf_row10_col5, #T_e27bf_row10_col6, #T_e27bf_row10_col7, #T_e27bf_row11_col0, #T_e27bf_row11_col1, #T_e27bf_row11_col2, #T_e27bf_row11_col3, #T_e27bf_row11_col4, #T_e27bf_row11_col5, #T_e27bf_row11_col6, #T_e27bf_row11_col7, #T_e27bf_row12_col0, #T_e27bf_row12_col1, #T_e27bf_row12_col2, #T_e27bf_row12_col3, #T_e27bf_row12_col4, #T_e27bf_row12_col5, #T_e27bf_row12_col6, #T_e27bf_row12_col7, #T_e27bf_row13_col0, #T_e27bf_row13_col1, #T_e27bf_row13_col2, #T_e27bf_row13_col3, #T_e27bf_row13_col4, #T_e27bf_row13_col5, #T_e27bf_row13_col6, #T_e27bf_row13_col7, #T_e27bf_row14_col0, #T_e27bf_row14_col1, #T_e27bf_row14_col2, #T_e27bf_row14_col3, #T_e27bf_row14_col4, #T_e27bf_row14_col5, #T_e27bf_row14_col6, #T_e27bf_row14_col7 {\n",
              "  text-align: left;\n",
              "}\n",
              "#T_e27bf_row0_col1, #T_e27bf_row0_col2, #T_e27bf_row0_col5, #T_e27bf_row0_col6, #T_e27bf_row0_col7, #T_e27bf_row1_col1, #T_e27bf_row1_col2, #T_e27bf_row1_col4, #T_e27bf_row1_col5, #T_e27bf_row1_col6, #T_e27bf_row1_col7, #T_e27bf_row2_col4, #T_e27bf_row3_col3, #T_e27bf_row4_col3, #T_e27bf_row5_col2, #T_e27bf_row6_col3, #T_e27bf_row7_col2, #T_e27bf_row8_col2, #T_e27bf_row9_col2, #T_e27bf_row9_col4 {\n",
              "  text-align: left;\n",
              "  background-color: yellow;\n",
              "}\n",
              "#T_e27bf_row0_col8, #T_e27bf_row1_col8, #T_e27bf_row2_col8, #T_e27bf_row4_col8, #T_e27bf_row5_col8, #T_e27bf_row6_col8, #T_e27bf_row7_col8, #T_e27bf_row8_col8, #T_e27bf_row9_col8, #T_e27bf_row10_col8, #T_e27bf_row11_col8, #T_e27bf_row12_col8, #T_e27bf_row13_col8, #T_e27bf_row14_col8 {\n",
              "  text-align: left;\n",
              "  background-color: lightgrey;\n",
              "}\n",
              "#T_e27bf_row3_col8 {\n",
              "  text-align: left;\n",
              "  background-color: yellow;\n",
              "  background-color: lightgrey;\n",
              "}\n",
              "</style>\n",
              "<table id=\"T_e27bf\" class=\"dataframe\">\n",
              "  <thead>\n",
              "    <tr>\n",
              "      <th class=\"blank level0\" >&nbsp;</th>\n",
              "      <th id=\"T_e27bf_level0_col0\" class=\"col_heading level0 col0\" >Model</th>\n",
              "      <th id=\"T_e27bf_level0_col1\" class=\"col_heading level0 col1\" >Accuracy</th>\n",
              "      <th id=\"T_e27bf_level0_col2\" class=\"col_heading level0 col2\" >AUC</th>\n",
              "      <th id=\"T_e27bf_level0_col3\" class=\"col_heading level0 col3\" >Recall</th>\n",
              "      <th id=\"T_e27bf_level0_col4\" class=\"col_heading level0 col4\" >Prec.</th>\n",
              "      <th id=\"T_e27bf_level0_col5\" class=\"col_heading level0 col5\" >F1</th>\n",
              "      <th id=\"T_e27bf_level0_col6\" class=\"col_heading level0 col6\" >Kappa</th>\n",
              "      <th id=\"T_e27bf_level0_col7\" class=\"col_heading level0 col7\" >MCC</th>\n",
              "      <th id=\"T_e27bf_level0_col8\" class=\"col_heading level0 col8\" >TT (Sec)</th>\n",
              "    </tr>\n",
              "  </thead>\n",
              "  <tbody>\n",
              "    <tr>\n",
              "      <th id=\"T_e27bf_level0_row0\" class=\"row_heading level0 row0\" >gbc</th>\n",
              "      <td id=\"T_e27bf_row0_col0\" class=\"data row0 col0\" >Gradient Boosting Classifier</td>\n",
              "      <td id=\"T_e27bf_row0_col1\" class=\"data row0 col1\" >0.9997</td>\n",
              "      <td id=\"T_e27bf_row0_col2\" class=\"data row0 col2\" >1.0000</td>\n",
              "      <td id=\"T_e27bf_row0_col3\" class=\"data row0 col3\" >0.9990</td>\n",
              "      <td id=\"T_e27bf_row0_col4\" class=\"data row0 col4\" >0.9987</td>\n",
              "      <td id=\"T_e27bf_row0_col5\" class=\"data row0 col5\" >0.9989</td>\n",
              "      <td id=\"T_e27bf_row0_col6\" class=\"data row0 col6\" >0.9987</td>\n",
              "      <td id=\"T_e27bf_row0_col7\" class=\"data row0 col7\" >0.9987</td>\n",
              "      <td id=\"T_e27bf_row0_col8\" class=\"data row0 col8\" >3.8530</td>\n",
              "    </tr>\n",
              "    <tr>\n",
              "      <th id=\"T_e27bf_level0_row1\" class=\"row_heading level0 row1\" >xgboost</th>\n",
              "      <td id=\"T_e27bf_row1_col0\" class=\"data row1 col0\" >Extreme Gradient Boosting</td>\n",
              "      <td id=\"T_e27bf_row1_col1\" class=\"data row1 col1\" >0.9997</td>\n",
              "      <td id=\"T_e27bf_row1_col2\" class=\"data row1 col2\" >1.0000</td>\n",
              "      <td id=\"T_e27bf_row1_col3\" class=\"data row1 col3\" >0.9987</td>\n",
              "      <td id=\"T_e27bf_row1_col4\" class=\"data row1 col4\" >0.9990</td>\n",
              "      <td id=\"T_e27bf_row1_col5\" class=\"data row1 col5\" >0.9989</td>\n",
              "      <td id=\"T_e27bf_row1_col6\" class=\"data row1 col6\" >0.9987</td>\n",
              "      <td id=\"T_e27bf_row1_col7\" class=\"data row1 col7\" >0.9987</td>\n",
              "      <td id=\"T_e27bf_row1_col8\" class=\"data row1 col8\" >1.5970</td>\n",
              "    </tr>\n",
              "    <tr>\n",
              "      <th id=\"T_e27bf_level0_row2\" class=\"row_heading level0 row2\" >dt</th>\n",
              "      <td id=\"T_e27bf_row2_col0\" class=\"data row2 col0\" >Decision Tree Classifier</td>\n",
              "      <td id=\"T_e27bf_row2_col1\" class=\"data row2 col1\" >0.9996</td>\n",
              "      <td id=\"T_e27bf_row2_col2\" class=\"data row2 col2\" >0.9991</td>\n",
              "      <td id=\"T_e27bf_row2_col3\" class=\"data row2 col3\" >0.9985</td>\n",
              "      <td id=\"T_e27bf_row2_col4\" class=\"data row2 col4\" >0.9990</td>\n",
              "      <td id=\"T_e27bf_row2_col5\" class=\"data row2 col5\" >0.9987</td>\n",
              "      <td id=\"T_e27bf_row2_col6\" class=\"data row2 col6\" >0.9985</td>\n",
              "      <td id=\"T_e27bf_row2_col7\" class=\"data row2 col7\" >0.9985</td>\n",
              "      <td id=\"T_e27bf_row2_col8\" class=\"data row2 col8\" >0.2800</td>\n",
              "    </tr>\n",
              "    <tr>\n",
              "      <th id=\"T_e27bf_level0_row3\" class=\"row_heading level0 row3\" >ridge</th>\n",
              "      <td id=\"T_e27bf_row3_col0\" class=\"data row3 col0\" >Ridge Classifier</td>\n",
              "      <td id=\"T_e27bf_row3_col1\" class=\"data row3 col1\" >0.9996</td>\n",
              "      <td id=\"T_e27bf_row3_col2\" class=\"data row3 col2\" >0.0000</td>\n",
              "      <td id=\"T_e27bf_row3_col3\" class=\"data row3 col3\" >1.0000</td>\n",
              "      <td id=\"T_e27bf_row3_col4\" class=\"data row3 col4\" >0.9975</td>\n",
              "      <td id=\"T_e27bf_row3_col5\" class=\"data row3 col5\" >0.9987</td>\n",
              "      <td id=\"T_e27bf_row3_col6\" class=\"data row3 col6\" >0.9985</td>\n",
              "      <td id=\"T_e27bf_row3_col7\" class=\"data row3 col7\" >0.9985</td>\n",
              "      <td id=\"T_e27bf_row3_col8\" class=\"data row3 col8\" >0.1640</td>\n",
              "    </tr>\n",
              "    <tr>\n",
              "      <th id=\"T_e27bf_level0_row4\" class=\"row_heading level0 row4\" >qda</th>\n",
              "      <td id=\"T_e27bf_row4_col0\" class=\"data row4 col0\" >Quadratic Discriminant Analysis</td>\n",
              "      <td id=\"T_e27bf_row4_col1\" class=\"data row4 col1\" >0.9996</td>\n",
              "      <td id=\"T_e27bf_row4_col2\" class=\"data row4 col2\" >0.9998</td>\n",
              "      <td id=\"T_e27bf_row4_col3\" class=\"data row4 col3\" >1.0000</td>\n",
              "      <td id=\"T_e27bf_row4_col4\" class=\"data row4 col4\" >0.9975</td>\n",
              "      <td id=\"T_e27bf_row4_col5\" class=\"data row4 col5\" >0.9987</td>\n",
              "      <td id=\"T_e27bf_row4_col6\" class=\"data row4 col6\" >0.9985</td>\n",
              "      <td id=\"T_e27bf_row4_col7\" class=\"data row4 col7\" >0.9985</td>\n",
              "      <td id=\"T_e27bf_row4_col8\" class=\"data row4 col8\" >0.2140</td>\n",
              "    </tr>\n",
              "    <tr>\n",
              "      <th id=\"T_e27bf_level0_row5\" class=\"row_heading level0 row5\" >ada</th>\n",
              "      <td id=\"T_e27bf_row5_col0\" class=\"data row5 col0\" >Ada Boost Classifier</td>\n",
              "      <td id=\"T_e27bf_row5_col1\" class=\"data row5 col1\" >0.9996</td>\n",
              "      <td id=\"T_e27bf_row5_col2\" class=\"data row5 col2\" >1.0000</td>\n",
              "      <td id=\"T_e27bf_row5_col3\" class=\"data row5 col3\" >0.9985</td>\n",
              "      <td id=\"T_e27bf_row5_col4\" class=\"data row5 col4\" >0.9987</td>\n",
              "      <td id=\"T_e27bf_row5_col5\" class=\"data row5 col5\" >0.9986</td>\n",
              "      <td id=\"T_e27bf_row5_col6\" class=\"data row5 col6\" >0.9984</td>\n",
              "      <td id=\"T_e27bf_row5_col7\" class=\"data row5 col7\" >0.9984</td>\n",
              "      <td id=\"T_e27bf_row5_col8\" class=\"data row5 col8\" >1.2910</td>\n",
              "    </tr>\n",
              "    <tr>\n",
              "      <th id=\"T_e27bf_level0_row6\" class=\"row_heading level0 row6\" >lda</th>\n",
              "      <td id=\"T_e27bf_row6_col0\" class=\"data row6 col0\" >Linear Discriminant Analysis</td>\n",
              "      <td id=\"T_e27bf_row6_col1\" class=\"data row6 col1\" >0.9996</td>\n",
              "      <td id=\"T_e27bf_row6_col2\" class=\"data row6 col2\" >0.9998</td>\n",
              "      <td id=\"T_e27bf_row6_col3\" class=\"data row6 col3\" >1.0000</td>\n",
              "      <td id=\"T_e27bf_row6_col4\" class=\"data row6 col4\" >0.9975</td>\n",
              "      <td id=\"T_e27bf_row6_col5\" class=\"data row6 col5\" >0.9987</td>\n",
              "      <td id=\"T_e27bf_row6_col6\" class=\"data row6 col6\" >0.9985</td>\n",
              "      <td id=\"T_e27bf_row6_col7\" class=\"data row6 col7\" >0.9985</td>\n",
              "      <td id=\"T_e27bf_row6_col8\" class=\"data row6 col8\" >0.3360</td>\n",
              "    </tr>\n",
              "    <tr>\n",
              "      <th id=\"T_e27bf_level0_row7\" class=\"row_heading level0 row7\" >et</th>\n",
              "      <td id=\"T_e27bf_row7_col0\" class=\"data row7 col0\" >Extra Trees Classifier</td>\n",
              "      <td id=\"T_e27bf_row7_col1\" class=\"data row7 col1\" >0.9995</td>\n",
              "      <td id=\"T_e27bf_row7_col2\" class=\"data row7 col2\" >1.0000</td>\n",
              "      <td id=\"T_e27bf_row7_col3\" class=\"data row7 col3\" >0.9980</td>\n",
              "      <td id=\"T_e27bf_row7_col4\" class=\"data row7 col4\" >0.9987</td>\n",
              "      <td id=\"T_e27bf_row7_col5\" class=\"data row7 col5\" >0.9983</td>\n",
              "      <td id=\"T_e27bf_row7_col6\" class=\"data row7 col6\" >0.9981</td>\n",
              "      <td id=\"T_e27bf_row7_col7\" class=\"data row7 col7\" >0.9981</td>\n",
              "      <td id=\"T_e27bf_row7_col8\" class=\"data row7 col8\" >0.9650</td>\n",
              "    </tr>\n",
              "    <tr>\n",
              "      <th id=\"T_e27bf_level0_row8\" class=\"row_heading level0 row8\" >lightgbm</th>\n",
              "      <td id=\"T_e27bf_row8_col0\" class=\"data row8 col0\" >Light Gradient Boosting Machine</td>\n",
              "      <td id=\"T_e27bf_row8_col1\" class=\"data row8 col1\" >0.9995</td>\n",
              "      <td id=\"T_e27bf_row8_col2\" class=\"data row8 col2\" >1.0000</td>\n",
              "      <td id=\"T_e27bf_row8_col3\" class=\"data row8 col3\" >0.9982</td>\n",
              "      <td id=\"T_e27bf_row8_col4\" class=\"data row8 col4\" >0.9985</td>\n",
              "      <td id=\"T_e27bf_row8_col5\" class=\"data row8 col5\" >0.9983</td>\n",
              "      <td id=\"T_e27bf_row8_col6\" class=\"data row8 col6\" >0.9981</td>\n",
              "      <td id=\"T_e27bf_row8_col7\" class=\"data row8 col7\" >0.9981</td>\n",
              "      <td id=\"T_e27bf_row8_col8\" class=\"data row8 col8\" >0.9690</td>\n",
              "    </tr>\n",
              "    <tr>\n",
              "      <th id=\"T_e27bf_level0_row9\" class=\"row_heading level0 row9\" >rf</th>\n",
              "      <td id=\"T_e27bf_row9_col0\" class=\"data row9 col0\" >Random Forest Classifier</td>\n",
              "      <td id=\"T_e27bf_row9_col1\" class=\"data row9 col1\" >0.9994</td>\n",
              "      <td id=\"T_e27bf_row9_col2\" class=\"data row9 col2\" >1.0000</td>\n",
              "      <td id=\"T_e27bf_row9_col3\" class=\"data row9 col3\" >0.9972</td>\n",
              "      <td id=\"T_e27bf_row9_col4\" class=\"data row9 col4\" >0.9990</td>\n",
              "      <td id=\"T_e27bf_row9_col5\" class=\"data row9 col5\" >0.9981</td>\n",
              "      <td id=\"T_e27bf_row9_col6\" class=\"data row9 col6\" >0.9978</td>\n",
              "      <td id=\"T_e27bf_row9_col7\" class=\"data row9 col7\" >0.9978</td>\n",
              "      <td id=\"T_e27bf_row9_col8\" class=\"data row9 col8\" >1.4520</td>\n",
              "    </tr>\n",
              "    <tr>\n",
              "      <th id=\"T_e27bf_level0_row10\" class=\"row_heading level0 row10\" >lr</th>\n",
              "      <td id=\"T_e27bf_row10_col0\" class=\"data row10 col0\" >Logistic Regression</td>\n",
              "      <td id=\"T_e27bf_row10_col1\" class=\"data row10 col1\" >0.9964</td>\n",
              "      <td id=\"T_e27bf_row10_col2\" class=\"data row10 col2\" >0.9961</td>\n",
              "      <td id=\"T_e27bf_row10_col3\" class=\"data row10 col3\" >0.9773</td>\n",
              "      <td id=\"T_e27bf_row10_col4\" class=\"data row10 col4\" >0.9984</td>\n",
              "      <td id=\"T_e27bf_row10_col5\" class=\"data row10 col5\" >0.9877</td>\n",
              "      <td id=\"T_e27bf_row10_col6\" class=\"data row10 col6\" >0.9856</td>\n",
              "      <td id=\"T_e27bf_row10_col7\" class=\"data row10 col7\" >0.9857</td>\n",
              "      <td id=\"T_e27bf_row10_col8\" class=\"data row10 col8\" >1.2520</td>\n",
              "    </tr>\n",
              "    <tr>\n",
              "      <th id=\"T_e27bf_level0_row11\" class=\"row_heading level0 row11\" >svm</th>\n",
              "      <td id=\"T_e27bf_row11_col0\" class=\"data row11 col0\" >SVM - Linear Kernel</td>\n",
              "      <td id=\"T_e27bf_row11_col1\" class=\"data row11 col1\" >0.9572</td>\n",
              "      <td id=\"T_e27bf_row11_col2\" class=\"data row11 col2\" >0.0000</td>\n",
              "      <td id=\"T_e27bf_row11_col3\" class=\"data row11 col3\" >0.9654</td>\n",
              "      <td id=\"T_e27bf_row11_col4\" class=\"data row11 col4\" >0.9061</td>\n",
              "      <td id=\"T_e27bf_row11_col5\" class=\"data row11 col5\" >0.9172</td>\n",
              "      <td id=\"T_e27bf_row11_col6\" class=\"data row11 col6\" >0.8961</td>\n",
              "      <td id=\"T_e27bf_row11_col7\" class=\"data row11 col7\" >0.9080</td>\n",
              "      <td id=\"T_e27bf_row11_col8\" class=\"data row11 col8\" >0.1960</td>\n",
              "    </tr>\n",
              "    <tr>\n",
              "      <th id=\"T_e27bf_level0_row12\" class=\"row_heading level0 row12\" >knn</th>\n",
              "      <td id=\"T_e27bf_row12_col0\" class=\"data row12 col0\" >K Neighbors Classifier</td>\n",
              "      <td id=\"T_e27bf_row12_col1\" class=\"data row12 col1\" >0.9460</td>\n",
              "      <td id=\"T_e27bf_row12_col2\" class=\"data row12 col2\" >0.9078</td>\n",
              "      <td id=\"T_e27bf_row12_col3\" class=\"data row12 col3\" >0.6495</td>\n",
              "      <td id=\"T_e27bf_row12_col4\" class=\"data row12 col4\" >0.9843</td>\n",
              "      <td id=\"T_e27bf_row12_col5\" class=\"data row12 col5\" >0.7825</td>\n",
              "      <td id=\"T_e27bf_row12_col6\" class=\"data row12 col6\" >0.7531</td>\n",
              "      <td id=\"T_e27bf_row12_col7\" class=\"data row12 col7\" >0.7744</td>\n",
              "      <td id=\"T_e27bf_row12_col8\" class=\"data row12 col8\" >0.7500</td>\n",
              "    </tr>\n",
              "    <tr>\n",
              "      <th id=\"T_e27bf_level0_row13\" class=\"row_heading level0 row13\" >nb</th>\n",
              "      <td id=\"T_e27bf_row13_col0\" class=\"data row13 col0\" >Naive Bayes</td>\n",
              "      <td id=\"T_e27bf_row13_col1\" class=\"data row13 col1\" >0.9129</td>\n",
              "      <td id=\"T_e27bf_row13_col2\" class=\"data row13 col2\" >0.8950</td>\n",
              "      <td id=\"T_e27bf_row13_col3\" class=\"data row13 col3\" >0.6195</td>\n",
              "      <td id=\"T_e27bf_row13_col4\" class=\"data row13 col4\" >0.7548</td>\n",
              "      <td id=\"T_e27bf_row13_col5\" class=\"data row13 col5\" >0.6802</td>\n",
              "      <td id=\"T_e27bf_row13_col6\" class=\"data row13 col6\" >0.6304</td>\n",
              "      <td id=\"T_e27bf_row13_col7\" class=\"data row13 col7\" >0.6347</td>\n",
              "      <td id=\"T_e27bf_row13_col8\" class=\"data row13 col8\" >0.3040</td>\n",
              "    </tr>\n",
              "    <tr>\n",
              "      <th id=\"T_e27bf_level0_row14\" class=\"row_heading level0 row14\" >dummy</th>\n",
              "      <td id=\"T_e27bf_row14_col0\" class=\"data row14 col0\" >Dummy Classifier</td>\n",
              "      <td id=\"T_e27bf_row14_col1\" class=\"data row14 col1\" >0.8504</td>\n",
              "      <td id=\"T_e27bf_row14_col2\" class=\"data row14 col2\" >0.5000</td>\n",
              "      <td id=\"T_e27bf_row14_col3\" class=\"data row14 col3\" >0.0000</td>\n",
              "      <td id=\"T_e27bf_row14_col4\" class=\"data row14 col4\" >0.0000</td>\n",
              "      <td id=\"T_e27bf_row14_col5\" class=\"data row14 col5\" >0.0000</td>\n",
              "      <td id=\"T_e27bf_row14_col6\" class=\"data row14 col6\" >0.0000</td>\n",
              "      <td id=\"T_e27bf_row14_col7\" class=\"data row14 col7\" >0.0000</td>\n",
              "      <td id=\"T_e27bf_row14_col8\" class=\"data row14 col8\" >0.1870</td>\n",
              "    </tr>\n",
              "  </tbody>\n",
              "</table>\n"
            ]
          },
          "metadata": {}
        },
        {
          "output_type": "display_data",
          "data": {
            "text/plain": [
              "Processing:   0%|          | 0/65 [00:00<?, ?it/s]"
            ],
            "application/vnd.jupyter.widget-view+json": {
              "version_major": 2,
              "version_minor": 0,
              "model_id": "07ac58ff795d458bbfe5631041d208a6"
            }
          },
          "metadata": {
            "application/vnd.jupyter.widget-view+json": {
              "colab": {
                "custom_widget_manager": {
                  "url": "https://ssl.gstatic.com/colaboratory-static/widgets/colab-cdn-widget-manager/b3e629b1971e1542/manager.min.js"
                }
              }
            }
          }
        },
        {
          "output_type": "display_data",
          "data": {
            "text/plain": [
              "<IPython.core.display.HTML object>"
            ],
            "text/html": []
          },
          "metadata": {}
        }
      ]
    },
    {
      "cell_type": "code",
      "source": [
        "best"
      ],
      "metadata": {
        "colab": {
          "base_uri": "https://localhost:8080/",
          "height": 214
        },
        "id": "0aua81A1xQz7",
        "outputId": "d8a083b7-2f45-49d0-d522-be5660f3fd81"
      },
      "id": "0aua81A1xQz7",
      "execution_count": 61,
      "outputs": [
        {
          "output_type": "execute_result",
          "data": {
            "text/plain": [
              "GradientBoostingClassifier(ccp_alpha=0.0, criterion='friedman_mse', init=None,\n",
              "                           learning_rate=0.1, loss='log_loss', max_depth=3,\n",
              "                           max_features=None, max_leaf_nodes=None,\n",
              "                           min_impurity_decrease=0.0, min_samples_leaf=1,\n",
              "                           min_samples_split=2, min_weight_fraction_leaf=0.0,\n",
              "                           n_estimators=100, n_iter_no_change=None,\n",
              "                           random_state=432, subsample=1.0, tol=0.0001,\n",
              "                           validation_fraction=0.1, verbose=0,\n",
              "                           warm_start=False)"
            ],
            "text/html": [
              "<style>#sk-container-id-4 {color: black;background-color: white;}#sk-container-id-4 pre{padding: 0;}#sk-container-id-4 div.sk-toggleable {background-color: white;}#sk-container-id-4 label.sk-toggleable__label {cursor: pointer;display: block;width: 100%;margin-bottom: 0;padding: 0.3em;box-sizing: border-box;text-align: center;}#sk-container-id-4 label.sk-toggleable__label-arrow:before {content: \"▸\";float: left;margin-right: 0.25em;color: #696969;}#sk-container-id-4 label.sk-toggleable__label-arrow:hover:before {color: black;}#sk-container-id-4 div.sk-estimator:hover label.sk-toggleable__label-arrow:before {color: black;}#sk-container-id-4 div.sk-toggleable__content {max-height: 0;max-width: 0;overflow: hidden;text-align: left;background-color: #f0f8ff;}#sk-container-id-4 div.sk-toggleable__content pre {margin: 0.2em;color: black;border-radius: 0.25em;background-color: #f0f8ff;}#sk-container-id-4 input.sk-toggleable__control:checked~div.sk-toggleable__content {max-height: 200px;max-width: 100%;overflow: auto;}#sk-container-id-4 input.sk-toggleable__control:checked~label.sk-toggleable__label-arrow:before {content: \"▾\";}#sk-container-id-4 div.sk-estimator input.sk-toggleable__control:checked~label.sk-toggleable__label {background-color: #d4ebff;}#sk-container-id-4 div.sk-label input.sk-toggleable__control:checked~label.sk-toggleable__label {background-color: #d4ebff;}#sk-container-id-4 input.sk-hidden--visually {border: 0;clip: rect(1px 1px 1px 1px);clip: rect(1px, 1px, 1px, 1px);height: 1px;margin: -1px;overflow: hidden;padding: 0;position: absolute;width: 1px;}#sk-container-id-4 div.sk-estimator {font-family: monospace;background-color: #f0f8ff;border: 1px dotted black;border-radius: 0.25em;box-sizing: border-box;margin-bottom: 0.5em;}#sk-container-id-4 div.sk-estimator:hover {background-color: #d4ebff;}#sk-container-id-4 div.sk-parallel-item::after {content: \"\";width: 100%;border-bottom: 1px solid gray;flex-grow: 1;}#sk-container-id-4 div.sk-label:hover label.sk-toggleable__label {background-color: #d4ebff;}#sk-container-id-4 div.sk-serial::before {content: \"\";position: absolute;border-left: 1px solid gray;box-sizing: border-box;top: 0;bottom: 0;left: 50%;z-index: 0;}#sk-container-id-4 div.sk-serial {display: flex;flex-direction: column;align-items: center;background-color: white;padding-right: 0.2em;padding-left: 0.2em;position: relative;}#sk-container-id-4 div.sk-item {position: relative;z-index: 1;}#sk-container-id-4 div.sk-parallel {display: flex;align-items: stretch;justify-content: center;background-color: white;position: relative;}#sk-container-id-4 div.sk-item::before, #sk-container-id-4 div.sk-parallel-item::before {content: \"\";position: absolute;border-left: 1px solid gray;box-sizing: border-box;top: 0;bottom: 0;left: 50%;z-index: -1;}#sk-container-id-4 div.sk-parallel-item {display: flex;flex-direction: column;z-index: 1;position: relative;background-color: white;}#sk-container-id-4 div.sk-parallel-item:first-child::after {align-self: flex-end;width: 50%;}#sk-container-id-4 div.sk-parallel-item:last-child::after {align-self: flex-start;width: 50%;}#sk-container-id-4 div.sk-parallel-item:only-child::after {width: 0;}#sk-container-id-4 div.sk-dashed-wrapped {border: 1px dashed gray;margin: 0 0.4em 0.5em 0.4em;box-sizing: border-box;padding-bottom: 0.4em;background-color: white;}#sk-container-id-4 div.sk-label label {font-family: monospace;font-weight: bold;display: inline-block;line-height: 1.2em;}#sk-container-id-4 div.sk-label-container {text-align: center;}#sk-container-id-4 div.sk-container {/* jupyter's `normalize.less` sets `[hidden] { display: none; }` but bootstrap.min.css set `[hidden] { display: none !important; }` so we also need the `!important` here to be able to override the default hidden behavior on the sphinx rendered scikit-learn.org. See: https://github.com/scikit-learn/scikit-learn/issues/21755 */display: inline-block !important;position: relative;}#sk-container-id-4 div.sk-text-repr-fallback {display: none;}</style><div id=\"sk-container-id-4\" class=\"sk-top-container\"><div class=\"sk-text-repr-fallback\"><pre>GradientBoostingClassifier(ccp_alpha=0.0, criterion=&#x27;friedman_mse&#x27;, init=None,\n",
              "                           learning_rate=0.1, loss=&#x27;log_loss&#x27;, max_depth=3,\n",
              "                           max_features=None, max_leaf_nodes=None,\n",
              "                           min_impurity_decrease=0.0, min_samples_leaf=1,\n",
              "                           min_samples_split=2, min_weight_fraction_leaf=0.0,\n",
              "                           n_estimators=100, n_iter_no_change=None,\n",
              "                           random_state=432, subsample=1.0, tol=0.0001,\n",
              "                           validation_fraction=0.1, verbose=0,\n",
              "                           warm_start=False)</pre><b>In a Jupyter environment, please rerun this cell to show the HTML representation or trust the notebook. <br />On GitHub, the HTML representation is unable to render, please try loading this page with nbviewer.org.</b></div><div class=\"sk-container\" hidden><div class=\"sk-item\"><div class=\"sk-estimator sk-toggleable\"><input class=\"sk-toggleable__control sk-hidden--visually\" id=\"sk-estimator-id-10\" type=\"checkbox\" checked><label for=\"sk-estimator-id-10\" class=\"sk-toggleable__label sk-toggleable__label-arrow\">GradientBoostingClassifier</label><div class=\"sk-toggleable__content\"><pre>GradientBoostingClassifier(ccp_alpha=0.0, criterion=&#x27;friedman_mse&#x27;, init=None,\n",
              "                           learning_rate=0.1, loss=&#x27;log_loss&#x27;, max_depth=3,\n",
              "                           max_features=None, max_leaf_nodes=None,\n",
              "                           min_impurity_decrease=0.0, min_samples_leaf=1,\n",
              "                           min_samples_split=2, min_weight_fraction_leaf=0.0,\n",
              "                           n_estimators=100, n_iter_no_change=None,\n",
              "                           random_state=432, subsample=1.0, tol=0.0001,\n",
              "                           validation_fraction=0.1, verbose=0,\n",
              "                           warm_start=False)</pre></div></div></div></div></div>"
            ]
          },
          "metadata": {},
          "execution_count": 61
        }
      ]
    },
    {
      "cell_type": "code",
      "source": [],
      "metadata": {
        "id": "aL5E3-dRx3wj"
      },
      "id": "aL5E3-dRx3wj",
      "execution_count": null,
      "outputs": []
    }
  ],
  "metadata": {
    "kernelspec": {
      "display_name": "Python 3 (ipykernel)",
      "language": "python",
      "name": "python3"
    },
    "language_info": {
      "codemirror_mode": {
        "name": "ipython",
        "version": 3
      },
      "file_extension": ".py",
      "mimetype": "text/x-python",
      "name": "python",
      "nbconvert_exporter": "python",
      "pygments_lexer": "ipython3",
      "version": "3.11.4"
    },
    "colab": {
      "provenance": [],
      "include_colab_link": true
    },
    "widgets": {
      "application/vnd.jupyter.widget-state+json": {
        "07ac58ff795d458bbfe5631041d208a6": {
          "model_module": "@jupyter-widgets/controls",
          "model_name": "HBoxModel",
          "model_module_version": "1.5.0",
          "state": {
            "_dom_classes": [],
            "_model_module": "@jupyter-widgets/controls",
            "_model_module_version": "1.5.0",
            "_model_name": "HBoxModel",
            "_view_count": null,
            "_view_module": "@jupyter-widgets/controls",
            "_view_module_version": "1.5.0",
            "_view_name": "HBoxView",
            "box_style": "",
            "children": [
              "IPY_MODEL_1b752c54b35b4946bb77332c3e826f76",
              "IPY_MODEL_8a6f901bff904bcf9506949f88b02876",
              "IPY_MODEL_004fa9b089bd43c19490636b96604838"
            ],
            "layout": "IPY_MODEL_e365bbcca1234949901f07f24abf0dc0"
          }
        },
        "1b752c54b35b4946bb77332c3e826f76": {
          "model_module": "@jupyter-widgets/controls",
          "model_name": "HTMLModel",
          "model_module_version": "1.5.0",
          "state": {
            "_dom_classes": [],
            "_model_module": "@jupyter-widgets/controls",
            "_model_module_version": "1.5.0",
            "_model_name": "HTMLModel",
            "_view_count": null,
            "_view_module": "@jupyter-widgets/controls",
            "_view_module_version": "1.5.0",
            "_view_name": "HTMLView",
            "description": "",
            "description_tooltip": null,
            "layout": "IPY_MODEL_22961857a3484d73aae5d2ea58e9c9cc",
            "placeholder": "​",
            "style": "IPY_MODEL_c3c895754f534a768b6cc524a58cb7f2",
            "value": "Processing: 100%"
          }
        },
        "8a6f901bff904bcf9506949f88b02876": {
          "model_module": "@jupyter-widgets/controls",
          "model_name": "FloatProgressModel",
          "model_module_version": "1.5.0",
          "state": {
            "_dom_classes": [],
            "_model_module": "@jupyter-widgets/controls",
            "_model_module_version": "1.5.0",
            "_model_name": "FloatProgressModel",
            "_view_count": null,
            "_view_module": "@jupyter-widgets/controls",
            "_view_module_version": "1.5.0",
            "_view_name": "ProgressView",
            "bar_style": "",
            "description": "",
            "description_tooltip": null,
            "layout": "IPY_MODEL_3865a98f9cc24d76b90bf82a2cf0aac1",
            "max": 65,
            "min": 0,
            "orientation": "horizontal",
            "style": "IPY_MODEL_7bdcbb532d184ea9b145c5ffd98d0a4f",
            "value": 65
          }
        },
        "004fa9b089bd43c19490636b96604838": {
          "model_module": "@jupyter-widgets/controls",
          "model_name": "HTMLModel",
          "model_module_version": "1.5.0",
          "state": {
            "_dom_classes": [],
            "_model_module": "@jupyter-widgets/controls",
            "_model_module_version": "1.5.0",
            "_model_name": "HTMLModel",
            "_view_count": null,
            "_view_module": "@jupyter-widgets/controls",
            "_view_module_version": "1.5.0",
            "_view_name": "HTMLView",
            "description": "",
            "description_tooltip": null,
            "layout": "IPY_MODEL_88fd8e5bde204cc1993c91700639c052",
            "placeholder": "​",
            "style": "IPY_MODEL_d9437f27f77e41f38962e8fca7fd3448",
            "value": " 65/65 [02:28&lt;00:00,  1.98s/it]"
          }
        },
        "e365bbcca1234949901f07f24abf0dc0": {
          "model_module": "@jupyter-widgets/base",
          "model_name": "LayoutModel",
          "model_module_version": "1.2.0",
          "state": {
            "_model_module": "@jupyter-widgets/base",
            "_model_module_version": "1.2.0",
            "_model_name": "LayoutModel",
            "_view_count": null,
            "_view_module": "@jupyter-widgets/base",
            "_view_module_version": "1.2.0",
            "_view_name": "LayoutView",
            "align_content": null,
            "align_items": null,
            "align_self": null,
            "border": null,
            "bottom": null,
            "display": null,
            "flex": null,
            "flex_flow": null,
            "grid_area": null,
            "grid_auto_columns": null,
            "grid_auto_flow": null,
            "grid_auto_rows": null,
            "grid_column": null,
            "grid_gap": null,
            "grid_row": null,
            "grid_template_areas": null,
            "grid_template_columns": null,
            "grid_template_rows": null,
            "height": null,
            "justify_content": null,
            "justify_items": null,
            "left": null,
            "margin": null,
            "max_height": null,
            "max_width": null,
            "min_height": null,
            "min_width": null,
            "object_fit": null,
            "object_position": null,
            "order": null,
            "overflow": null,
            "overflow_x": null,
            "overflow_y": null,
            "padding": null,
            "right": null,
            "top": null,
            "visibility": "hidden",
            "width": null
          }
        },
        "22961857a3484d73aae5d2ea58e9c9cc": {
          "model_module": "@jupyter-widgets/base",
          "model_name": "LayoutModel",
          "model_module_version": "1.2.0",
          "state": {
            "_model_module": "@jupyter-widgets/base",
            "_model_module_version": "1.2.0",
            "_model_name": "LayoutModel",
            "_view_count": null,
            "_view_module": "@jupyter-widgets/base",
            "_view_module_version": "1.2.0",
            "_view_name": "LayoutView",
            "align_content": null,
            "align_items": null,
            "align_self": null,
            "border": null,
            "bottom": null,
            "display": null,
            "flex": null,
            "flex_flow": null,
            "grid_area": null,
            "grid_auto_columns": null,
            "grid_auto_flow": null,
            "grid_auto_rows": null,
            "grid_column": null,
            "grid_gap": null,
            "grid_row": null,
            "grid_template_areas": null,
            "grid_template_columns": null,
            "grid_template_rows": null,
            "height": null,
            "justify_content": null,
            "justify_items": null,
            "left": null,
            "margin": null,
            "max_height": null,
            "max_width": null,
            "min_height": null,
            "min_width": null,
            "object_fit": null,
            "object_position": null,
            "order": null,
            "overflow": null,
            "overflow_x": null,
            "overflow_y": null,
            "padding": null,
            "right": null,
            "top": null,
            "visibility": null,
            "width": null
          }
        },
        "c3c895754f534a768b6cc524a58cb7f2": {
          "model_module": "@jupyter-widgets/controls",
          "model_name": "DescriptionStyleModel",
          "model_module_version": "1.5.0",
          "state": {
            "_model_module": "@jupyter-widgets/controls",
            "_model_module_version": "1.5.0",
            "_model_name": "DescriptionStyleModel",
            "_view_count": null,
            "_view_module": "@jupyter-widgets/base",
            "_view_module_version": "1.2.0",
            "_view_name": "StyleView",
            "description_width": ""
          }
        },
        "3865a98f9cc24d76b90bf82a2cf0aac1": {
          "model_module": "@jupyter-widgets/base",
          "model_name": "LayoutModel",
          "model_module_version": "1.2.0",
          "state": {
            "_model_module": "@jupyter-widgets/base",
            "_model_module_version": "1.2.0",
            "_model_name": "LayoutModel",
            "_view_count": null,
            "_view_module": "@jupyter-widgets/base",
            "_view_module_version": "1.2.0",
            "_view_name": "LayoutView",
            "align_content": null,
            "align_items": null,
            "align_self": null,
            "border": null,
            "bottom": null,
            "display": null,
            "flex": null,
            "flex_flow": null,
            "grid_area": null,
            "grid_auto_columns": null,
            "grid_auto_flow": null,
            "grid_auto_rows": null,
            "grid_column": null,
            "grid_gap": null,
            "grid_row": null,
            "grid_template_areas": null,
            "grid_template_columns": null,
            "grid_template_rows": null,
            "height": null,
            "justify_content": null,
            "justify_items": null,
            "left": null,
            "margin": null,
            "max_height": null,
            "max_width": null,
            "min_height": null,
            "min_width": null,
            "object_fit": null,
            "object_position": null,
            "order": null,
            "overflow": null,
            "overflow_x": null,
            "overflow_y": null,
            "padding": null,
            "right": null,
            "top": null,
            "visibility": null,
            "width": null
          }
        },
        "7bdcbb532d184ea9b145c5ffd98d0a4f": {
          "model_module": "@jupyter-widgets/controls",
          "model_name": "ProgressStyleModel",
          "model_module_version": "1.5.0",
          "state": {
            "_model_module": "@jupyter-widgets/controls",
            "_model_module_version": "1.5.0",
            "_model_name": "ProgressStyleModel",
            "_view_count": null,
            "_view_module": "@jupyter-widgets/base",
            "_view_module_version": "1.2.0",
            "_view_name": "StyleView",
            "bar_color": null,
            "description_width": ""
          }
        },
        "88fd8e5bde204cc1993c91700639c052": {
          "model_module": "@jupyter-widgets/base",
          "model_name": "LayoutModel",
          "model_module_version": "1.2.0",
          "state": {
            "_model_module": "@jupyter-widgets/base",
            "_model_module_version": "1.2.0",
            "_model_name": "LayoutModel",
            "_view_count": null,
            "_view_module": "@jupyter-widgets/base",
            "_view_module_version": "1.2.0",
            "_view_name": "LayoutView",
            "align_content": null,
            "align_items": null,
            "align_self": null,
            "border": null,
            "bottom": null,
            "display": null,
            "flex": null,
            "flex_flow": null,
            "grid_area": null,
            "grid_auto_columns": null,
            "grid_auto_flow": null,
            "grid_auto_rows": null,
            "grid_column": null,
            "grid_gap": null,
            "grid_row": null,
            "grid_template_areas": null,
            "grid_template_columns": null,
            "grid_template_rows": null,
            "height": null,
            "justify_content": null,
            "justify_items": null,
            "left": null,
            "margin": null,
            "max_height": null,
            "max_width": null,
            "min_height": null,
            "min_width": null,
            "object_fit": null,
            "object_position": null,
            "order": null,
            "overflow": null,
            "overflow_x": null,
            "overflow_y": null,
            "padding": null,
            "right": null,
            "top": null,
            "visibility": null,
            "width": null
          }
        },
        "d9437f27f77e41f38962e8fca7fd3448": {
          "model_module": "@jupyter-widgets/controls",
          "model_name": "DescriptionStyleModel",
          "model_module_version": "1.5.0",
          "state": {
            "_model_module": "@jupyter-widgets/controls",
            "_model_module_version": "1.5.0",
            "_model_name": "DescriptionStyleModel",
            "_view_count": null,
            "_view_module": "@jupyter-widgets/base",
            "_view_module_version": "1.2.0",
            "_view_name": "StyleView",
            "description_width": ""
          }
        }
      }
    }
  },
  "nbformat": 4,
  "nbformat_minor": 5
}